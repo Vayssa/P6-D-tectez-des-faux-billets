{
 "cells": [
  {
   "cell_type": "markdown",
   "metadata": {
    "cell_id": "a20ba9fffe6a4cef902dbc202feb38dc",
    "deepnote_cell_type": "text-cell-h1",
    "formattedRanges": [],
    "is_collapsed": false,
    "tags": []
   },
   "source": [
    "# Projet 6"
   ]
  },
  {
   "cell_type": "markdown",
   "metadata": {
    "cell_id": "2e0d3ac5-d5fe-4719-8aea-ad43817c87ab",
    "deepnote_cell_height": 52.390625,
    "deepnote_cell_type": "markdown",
    "deepnote_to_be_reexecuted": false,
    "execution_millis": 6,
    "execution_start": 1660054929035,
    "source_hash": "1a9da52",
    "tags": []
   },
   "source": [
    "créer un algorithme de détection de faux billets"
   ]
  },
  {
   "cell_type": "code",
   "execution_count": null,
   "metadata": {
    "cell_id": "8608ed2e543a4451a4fab0598eb67989",
    "deepnote_cell_height": 328,
    "deepnote_cell_type": "code",
    "deepnote_to_be_reexecuted": false,
    "execution_millis": 1204,
    "execution_start": 1664565530976,
    "source_hash": "b9d7d321",
    "tags": []
   },
   "outputs": [],
   "source": [
    "import matplotlib.pyplot as plt\n",
    "import matplotlib as mpl\n",
    "import pandas as pd\n",
    "import numpy as np\n",
    "import seaborn as sns\n",
    "import scipy as sp\n",
    "import datetime \n",
    "from sklearn import decomposition\n",
    "from sklearn import preprocessing\n",
    "from functions import *\n",
    "from scipy.cluster.hierarchy import linkage, fcluster\n",
    "from sklearn.cluster import KMeans\n",
    "from scipy.stats import norm\n",
    "#import statsmodels.formula.api as smf\n",
    "#import statsmodels.api as sm"
   ]
  },
  {
   "cell_type": "code",
   "execution_count": null,
   "metadata": {
    "cell_id": "cda7c11a5db8414f961a9d63db4be27d",
    "deepnote_cell_height": 549,
    "deepnote_cell_type": "code",
    "deepnote_to_be_reexecuted": false,
    "execution_millis": 4,
    "execution_start": 1664565532188,
    "source_hash": "522780a3",
    "tags": []
   },
   "outputs": [],
   "source": [
    "# fonction clé primaire\n",
    "def test_primary_key(df, column):\n",
    "        if len(df) == len(df[column].drop_duplicates()):\n",
    "                print(\"la clé  est unique\")\n",
    "        else : print('la clé n est pas unique')\n",
    "        print('___')\n",
    "\n",
    "#fonction is_null\n",
    "def test_is_null(df):\n",
    "    display((df.isnull().sum()))\n",
    "    display(sns.heatmap(df.isnull()))\n",
    "\n",
    "#fonction affichage médiane\n",
    "def func_affichage_mediane(df, column, unite):\n",
    "    print('la valeur mediane est de {}'.format(df[column].median()), unite)\n",
    "\n",
    "#fonction affichage moyenne\n",
    "def func_affichage_moyenne(df, column, unite):\n",
    "    print('la valeur moyenne est de {}'.format(df[column].mean()), unite)\n",
    "\n",
    "#Au préalable on crée une fonction pour connaître notre nombre de ligne supprimées\n",
    "def pourcentage_supprimé(df, df_supprimé):\n",
    "    print('Le pourcentage de lignes supprimées est de: {:.4f}'.format(len(df_supprimé)/len(df)*100), '%.',\\\n",
    "          '{}'.format(len(df_supprimé)), 'lignes ont été supprimées' ) \n",
    "    print('sur {}'.format(len(df_supprimé)+len(df)))\n",
    "\n"
   ]
  },
  {
   "cell_type": "code",
   "execution_count": null,
   "metadata": {
    "cell_id": "629f68cc600449c6bec8c874bdd840fc",
    "deepnote_cell_height": 626.59375,
    "deepnote_cell_type": "code",
    "deepnote_to_be_reexecuted": false,
    "execution_millis": 795,
    "execution_start": 1664565532193,
    "source_hash": "c3ac1b9a",
    "tags": []
   },
   "outputs": [
    {
     "data": {
      "application/vnd.deepnote.dataframe.v3+json": {
       "column_count": 7,
       "columns": [
        {
         "dtype": "bool",
         "name": "is_genuine",
         "stats": {
          "categories": [
           {
            "count": 100,
            "name": "True"
           },
           {
            "count": 70,
            "name": "False"
           }
          ],
          "nan_count": 0,
          "unique_count": 2
         }
        },
        {
         "dtype": "float64",
         "name": "diagonal",
         "stats": {
          "histogram": [
           {
            "bin_end": 171.237,
            "bin_start": 171.04,
            "count": 2
           },
           {
            "bin_end": 171.434,
            "bin_start": 171.237,
            "count": 5
           },
           {
            "bin_end": 171.631,
            "bin_start": 171.434,
            "count": 18
           },
           {
            "bin_end": 171.828,
            "bin_start": 171.631,
            "count": 39
           },
           {
            "bin_end": 172.02499999999998,
            "bin_start": 171.828,
            "count": 39
           },
           {
            "bin_end": 172.22199999999998,
            "bin_start": 172.02499999999998,
            "count": 43
           },
           {
            "bin_end": 172.41899999999998,
            "bin_start": 172.22199999999998,
            "count": 13
           },
           {
            "bin_end": 172.61599999999999,
            "bin_start": 172.41899999999998,
            "count": 9
           },
           {
            "bin_end": 172.813,
            "bin_start": 172.61599999999999,
            "count": 1
           },
           {
            "bin_end": 173.01,
            "bin_start": 172.813,
            "count": 1
           }
          ],
          "max": "173.01",
          "min": "171.04",
          "nan_count": 0,
          "unique_count": 88
         }
        },
        {
         "dtype": "float64",
         "name": "height_left",
         "stats": {
          "histogram": [
           {
            "bin_end": 103.393,
            "bin_start": 103.23,
            "count": 1
           },
           {
            "bin_end": 103.556,
            "bin_start": 103.393,
            "count": 6
           },
           {
            "bin_end": 103.71900000000001,
            "bin_start": 103.556,
            "count": 12
           },
           {
            "bin_end": 103.882,
            "bin_start": 103.71900000000001,
            "count": 30
           },
           {
            "bin_end": 104.045,
            "bin_start": 103.882,
            "count": 34
           },
           {
            "bin_end": 104.208,
            "bin_start": 104.045,
            "count": 29
           },
           {
            "bin_end": 104.371,
            "bin_start": 104.208,
            "count": 31
           },
           {
            "bin_end": 104.534,
            "bin_start": 104.371,
            "count": 17
           },
           {
            "bin_end": 104.697,
            "bin_start": 104.534,
            "count": 8
           },
           {
            "bin_end": 104.86,
            "bin_start": 104.697,
            "count": 2
           }
          ],
          "max": "104.86",
          "min": "103.23",
          "nan_count": 0,
          "unique_count": 91
         }
        },
        {
         "dtype": "float64",
         "name": "height_right",
         "stats": {
          "histogram": [
           {
            "bin_end": 103.321,
            "bin_start": 103.14,
            "count": 4
           },
           {
            "bin_end": 103.502,
            "bin_start": 103.321,
            "count": 16
           },
           {
            "bin_end": 103.683,
            "bin_start": 103.502,
            "count": 22
           },
           {
            "bin_end": 103.864,
            "bin_start": 103.683,
            "count": 29
           },
           {
            "bin_end": 104.045,
            "bin_start": 103.864,
            "count": 33
           },
           {
            "bin_end": 104.226,
            "bin_start": 104.045,
            "count": 35
           },
           {
            "bin_end": 104.407,
            "bin_start": 104.226,
            "count": 22
           },
           {
            "bin_end": 104.58800000000001,
            "bin_start": 104.407,
            "count": 5
           },
           {
            "bin_end": 104.769,
            "bin_start": 104.58800000000001,
            "count": 1
           },
           {
            "bin_end": 104.95,
            "bin_start": 104.769,
            "count": 3
           }
          ],
          "max": "104.95",
          "min": "103.14",
          "nan_count": 0,
          "unique_count": 96
         }
        },
        {
         "dtype": "float64",
         "name": "margin_low",
         "stats": {
          "histogram": [
           {
            "bin_end": 3.814,
            "bin_start": 3.54,
            "count": 19
           },
           {
            "bin_end": 4.088,
            "bin_start": 3.814,
            "count": 34
           },
           {
            "bin_end": 4.362,
            "bin_start": 4.088,
            "count": 26
           },
           {
            "bin_end": 4.636,
            "bin_start": 4.362,
            "count": 24
           },
           {
            "bin_end": 4.91,
            "bin_start": 4.636,
            "count": 11
           },
           {
            "bin_end": 5.184,
            "bin_start": 4.91,
            "count": 16
           },
           {
            "bin_end": 5.458,
            "bin_start": 5.184,
            "count": 11
           },
           {
            "bin_end": 5.732,
            "bin_start": 5.458,
            "count": 13
           },
           {
            "bin_end": 6.006,
            "bin_start": 5.732,
            "count": 11
           },
           {
            "bin_end": 6.28,
            "bin_start": 6.006,
            "count": 5
           }
          ],
          "max": "6.28",
          "min": "3.54",
          "nan_count": 0,
          "unique_count": 123
         }
        },
        {
         "dtype": "float64",
         "name": "margin_up",
         "stats": {
          "histogram": [
           {
            "bin_end": 2.411,
            "bin_start": 2.27,
            "count": 1
           },
           {
            "bin_end": 2.552,
            "bin_start": 2.411,
            "count": 0
           },
           {
            "bin_end": 2.693,
            "bin_start": 2.552,
            "count": 1
           },
           {
            "bin_end": 2.834,
            "bin_start": 2.693,
            "count": 9
           },
           {
            "bin_end": 2.975,
            "bin_start": 2.834,
            "count": 23
           },
           {
            "bin_end": 3.116,
            "bin_start": 2.975,
            "count": 36
           },
           {
            "bin_end": 3.257,
            "bin_start": 3.116,
            "count": 43
           },
           {
            "bin_end": 3.398,
            "bin_start": 3.257,
            "count": 28
           },
           {
            "bin_end": 3.539,
            "bin_start": 3.398,
            "count": 17
           },
           {
            "bin_end": 3.68,
            "bin_start": 3.539,
            "count": 12
           }
          ],
          "max": "3.68",
          "min": "2.27",
          "nan_count": 0,
          "unique_count": 81
         }
        },
        {
         "dtype": "float64",
         "name": "length",
         "stats": {
          "histogram": [
           {
            "bin_end": 110.371,
            "bin_start": 109.97,
            "count": 2
           },
           {
            "bin_end": 110.772,
            "bin_start": 110.371,
            "count": 7
           },
           {
            "bin_end": 111.173,
            "bin_start": 110.772,
            "count": 6
           },
           {
            "bin_end": 111.574,
            "bin_start": 111.173,
            "count": 15
           },
           {
            "bin_end": 111.975,
            "bin_start": 111.574,
            "count": 23
           },
           {
            "bin_end": 112.376,
            "bin_start": 111.975,
            "count": 11
           },
           {
            "bin_end": 112.777,
            "bin_start": 112.376,
            "count": 14
           },
           {
            "bin_end": 113.178,
            "bin_start": 112.777,
            "count": 37
           },
           {
            "bin_end": 113.57900000000001,
            "bin_start": 113.178,
            "count": 36
           },
           {
            "bin_end": 113.98,
            "bin_start": 113.57900000000001,
            "count": 19
           }
          ],
          "max": "113.98",
          "min": "109.97",
          "nan_count": 0,
          "unique_count": 129
         }
        },
        {
         "dtype": "int64",
         "name": "_deepnote_index_column"
        }
       ],
       "row_count": 170,
       "rows": [
        {
         "_deepnote_index_column": "0",
         "diagonal": "171.81",
         "height_left": "104.86",
         "height_right": "104.95",
         "is_genuine": "True",
         "length": "112.83",
         "margin_low": "4.52",
         "margin_up": "2.89"
        },
        {
         "_deepnote_index_column": "1",
         "diagonal": "171.67",
         "height_left": "103.74",
         "height_right": "103.7",
         "is_genuine": "True",
         "length": "113.29",
         "margin_low": "4.01",
         "margin_up": "2.87"
        },
        {
         "_deepnote_index_column": "2",
         "diagonal": "171.83",
         "height_left": "103.76",
         "height_right": "103.76",
         "is_genuine": "True",
         "length": "113.84",
         "margin_low": "4.4",
         "margin_up": "2.88"
        },
        {
         "_deepnote_index_column": "3",
         "diagonal": "171.8",
         "height_left": "103.78",
         "height_right": "103.65",
         "is_genuine": "True",
         "length": "113.63",
         "margin_low": "3.73",
         "margin_up": "3.12"
        },
        {
         "_deepnote_index_column": "4",
         "diagonal": "172.05",
         "height_left": "103.7",
         "height_right": "103.75",
         "is_genuine": "True",
         "length": "113.55",
         "margin_low": "5.04",
         "margin_up": "2.27"
        },
        {
         "_deepnote_index_column": "5",
         "diagonal": "172.57",
         "height_left": "104.65",
         "height_right": "104.44",
         "is_genuine": "True",
         "length": "113.16",
         "margin_low": "4.54",
         "margin_up": "2.99"
        },
        {
         "_deepnote_index_column": "6",
         "diagonal": "172.38",
         "height_left": "103.55",
         "height_right": "103.8",
         "is_genuine": "True",
         "length": "113.3",
         "margin_low": "3.97",
         "margin_up": "2.9"
        },
        {
         "_deepnote_index_column": "7",
         "diagonal": "171.58",
         "height_left": "103.65",
         "height_right": "103.37",
         "is_genuine": "True",
         "length": "113.38",
         "margin_low": "3.54",
         "margin_up": "3.19"
        },
        {
         "_deepnote_index_column": "8",
         "diagonal": "171.96",
         "height_left": "103.51",
         "height_right": "103.75",
         "is_genuine": "True",
         "length": "113.53",
         "margin_low": "4.06",
         "margin_up": "3.33"
        },
        {
         "_deepnote_index_column": "9",
         "diagonal": "172.14",
         "height_left": "104.34",
         "height_right": "104.2",
         "is_genuine": "True",
         "length": "112.47",
         "margin_low": "4.63",
         "margin_up": "3.02"
        }
       ]
      },
      "text/html": [
       "<div>\n",
       "<style scoped>\n",
       "    .dataframe tbody tr th:only-of-type {\n",
       "        vertical-align: middle;\n",
       "    }\n",
       "\n",
       "    .dataframe tbody tr th {\n",
       "        vertical-align: top;\n",
       "    }\n",
       "\n",
       "    .dataframe thead th {\n",
       "        text-align: right;\n",
       "    }\n",
       "</style>\n",
       "<table border=\"1\" class=\"dataframe\">\n",
       "  <thead>\n",
       "    <tr style=\"text-align: right;\">\n",
       "      <th></th>\n",
       "      <th>is_genuine</th>\n",
       "      <th>diagonal</th>\n",
       "      <th>height_left</th>\n",
       "      <th>height_right</th>\n",
       "      <th>margin_low</th>\n",
       "      <th>margin_up</th>\n",
       "      <th>length</th>\n",
       "    </tr>\n",
       "  </thead>\n",
       "  <tbody>\n",
       "    <tr>\n",
       "      <th>0</th>\n",
       "      <td>True</td>\n",
       "      <td>171.81</td>\n",
       "      <td>104.86</td>\n",
       "      <td>104.95</td>\n",
       "      <td>4.52</td>\n",
       "      <td>2.89</td>\n",
       "      <td>112.83</td>\n",
       "    </tr>\n",
       "    <tr>\n",
       "      <th>1</th>\n",
       "      <td>True</td>\n",
       "      <td>171.67</td>\n",
       "      <td>103.74</td>\n",
       "      <td>103.70</td>\n",
       "      <td>4.01</td>\n",
       "      <td>2.87</td>\n",
       "      <td>113.29</td>\n",
       "    </tr>\n",
       "    <tr>\n",
       "      <th>2</th>\n",
       "      <td>True</td>\n",
       "      <td>171.83</td>\n",
       "      <td>103.76</td>\n",
       "      <td>103.76</td>\n",
       "      <td>4.40</td>\n",
       "      <td>2.88</td>\n",
       "      <td>113.84</td>\n",
       "    </tr>\n",
       "    <tr>\n",
       "      <th>3</th>\n",
       "      <td>True</td>\n",
       "      <td>171.80</td>\n",
       "      <td>103.78</td>\n",
       "      <td>103.65</td>\n",
       "      <td>3.73</td>\n",
       "      <td>3.12</td>\n",
       "      <td>113.63</td>\n",
       "    </tr>\n",
       "    <tr>\n",
       "      <th>4</th>\n",
       "      <td>True</td>\n",
       "      <td>172.05</td>\n",
       "      <td>103.70</td>\n",
       "      <td>103.75</td>\n",
       "      <td>5.04</td>\n",
       "      <td>2.27</td>\n",
       "      <td>113.55</td>\n",
       "    </tr>\n",
       "    <tr>\n",
       "      <th>...</th>\n",
       "      <td>...</td>\n",
       "      <td>...</td>\n",
       "      <td>...</td>\n",
       "      <td>...</td>\n",
       "      <td>...</td>\n",
       "      <td>...</td>\n",
       "      <td>...</td>\n",
       "    </tr>\n",
       "    <tr>\n",
       "      <th>165</th>\n",
       "      <td>False</td>\n",
       "      <td>172.11</td>\n",
       "      <td>104.23</td>\n",
       "      <td>104.45</td>\n",
       "      <td>5.24</td>\n",
       "      <td>3.58</td>\n",
       "      <td>111.78</td>\n",
       "    </tr>\n",
       "    <tr>\n",
       "      <th>166</th>\n",
       "      <td>False</td>\n",
       "      <td>173.01</td>\n",
       "      <td>104.59</td>\n",
       "      <td>104.31</td>\n",
       "      <td>5.04</td>\n",
       "      <td>3.05</td>\n",
       "      <td>110.91</td>\n",
       "    </tr>\n",
       "    <tr>\n",
       "      <th>167</th>\n",
       "      <td>False</td>\n",
       "      <td>172.47</td>\n",
       "      <td>104.27</td>\n",
       "      <td>104.10</td>\n",
       "      <td>4.88</td>\n",
       "      <td>3.33</td>\n",
       "      <td>110.68</td>\n",
       "    </tr>\n",
       "    <tr>\n",
       "      <th>168</th>\n",
       "      <td>False</td>\n",
       "      <td>171.82</td>\n",
       "      <td>103.97</td>\n",
       "      <td>103.88</td>\n",
       "      <td>4.73</td>\n",
       "      <td>3.55</td>\n",
       "      <td>111.87</td>\n",
       "    </tr>\n",
       "    <tr>\n",
       "      <th>169</th>\n",
       "      <td>False</td>\n",
       "      <td>171.96</td>\n",
       "      <td>104.00</td>\n",
       "      <td>103.95</td>\n",
       "      <td>5.63</td>\n",
       "      <td>3.26</td>\n",
       "      <td>110.96</td>\n",
       "    </tr>\n",
       "  </tbody>\n",
       "</table>\n",
       "<p>170 rows × 7 columns</p>\n",
       "</div>"
      ],
      "text/plain": [
       "     is_genuine  diagonal  height_left  height_right  margin_low  margin_up  \\\n",
       "0          True    171.81       104.86        104.95        4.52       2.89   \n",
       "1          True    171.67       103.74        103.70        4.01       2.87   \n",
       "2          True    171.83       103.76        103.76        4.40       2.88   \n",
       "3          True    171.80       103.78        103.65        3.73       3.12   \n",
       "4          True    172.05       103.70        103.75        5.04       2.27   \n",
       "..          ...       ...          ...           ...         ...        ...   \n",
       "165       False    172.11       104.23        104.45        5.24       3.58   \n",
       "166       False    173.01       104.59        104.31        5.04       3.05   \n",
       "167       False    172.47       104.27        104.10        4.88       3.33   \n",
       "168       False    171.82       103.97        103.88        4.73       3.55   \n",
       "169       False    171.96       104.00        103.95        5.63       3.26   \n",
       "\n",
       "     length  \n",
       "0    112.83  \n",
       "1    113.29  \n",
       "2    113.84  \n",
       "3    113.63  \n",
       "4    113.55  \n",
       "..      ...  \n",
       "165  111.78  \n",
       "166  110.91  \n",
       "167  110.68  \n",
       "168  111.87  \n",
       "169  110.96  \n",
       "\n",
       "[170 rows x 7 columns]"
      ]
     },
     "execution_count": 3,
     "metadata": {},
     "output_type": "execute_result"
    }
   ],
   "source": [
    "df_notes = pd.read_csv('notes.csv')\n",
    "df_notes"
   ]
  },
  {
   "cell_type": "markdown",
   "metadata": {
    "cell_id": "ffb6071f26e54663a8cf8a4f2382d3ca",
    "deepnote_cell_type": "text-cell-h1",
    "formattedRanges": [],
    "is_collapsed": false,
    "tags": []
   },
   "source": [
    "# Mission 0"
   ]
  },
  {
   "cell_type": "code",
   "execution_count": null,
   "metadata": {
    "cell_id": "47a442511d3b45a9b782e508e6e2e4f0",
    "deepnote_cell_height": 76,
    "deepnote_cell_type": "code",
    "deepnote_to_be_reexecuted": false,
    "execution_millis": 2,
    "execution_start": 1664565532311,
    "source_hash": "57172d50",
    "tags": []
   },
   "outputs": [],
   "source": [
    "#effectuez une analyse univariée et bivariée"
   ]
  },
  {
   "cell_type": "code",
   "execution_count": null,
   "metadata": {
    "cell_id": "de8503e366c84dbb8c0780c3f73b7f4a",
    "deepnote_cell_height": 818.765625,
    "deepnote_cell_type": "code",
    "deepnote_output_heights": [
     154.59375,
     20.1875,
     490
    ],
    "deepnote_to_be_reexecuted": false,
    "execution_millis": 668,
    "execution_start": 1664565532323,
    "source_hash": "f288ec4e",
    "tags": []
   },
   "outputs": [
    {
     "data": {
      "text/plain": [
       "is_genuine      0\n",
       "diagonal        0\n",
       "height_left     0\n",
       "height_right    0\n",
       "margin_low      0\n",
       "margin_up       0\n",
       "length          0\n",
       "dtype: int64"
      ]
     },
     "metadata": {},
     "output_type": "display_data"
    },
    {
     "data": {
      "text/plain": [
       "<AxesSubplot:>"
      ]
     },
     "metadata": {},
     "output_type": "display_data"
    },
    {
     "data": {
      "image/png": "[encoded data removed]",
      "text/plain": [
       "<Figure size 640x480 with 2 Axes>"
      ]
     },
     "metadata": {
      "image/png": {
       "height": 489,
       "width": 557
      }
     },
     "output_type": "display_data"
    }
   ],
   "source": [
    "test_is_null(df_notes)"
   ]
  },
  {
   "cell_type": "markdown",
   "metadata": {
    "cell_id": "5fad98c8b6a1408a98abf51d32bd69ab",
    "deepnote_cell_type": "text-cell-p",
    "formattedRanges": [],
    "is_collapsed": false,
    "tags": []
   },
   "source": [
    "#demander à Manuel comment faire cette fonction"
   ]
  },
  {
   "cell_type": "markdown",
   "metadata": {
    "cell_id": "cfaf48e3012b463fb9d63db5f9223c8a",
    "deepnote_cell_height": 235.1875,
    "deepnote_cell_type": "markdown",
    "tags": []
   },
   "source": [
    "def global_function_analyse_univariée(df):\n",
    "    liste_columns = df.columns.to_list()\n",
    "    longeur_liste_columns = len(df)\n",
    "\n",
    "    def func_affichage_mediane(df, column):\n",
    "    print('la valeur mediane est de {}'.format(df[column].median()))\n",
    "\n",
    "    def func_affichage_moyenne(df, column):\n",
    "        print('la valeur moyenne est de {}'.format(df[column].mean()))"
   ]
  },
  {
   "cell_type": "code",
   "execution_count": null,
   "metadata": {
    "cell_id": "71b548b08a55455586b7b6f5ae071abe",
    "deepnote_cell_height": 130,
    "deepnote_cell_type": "code",
    "deepnote_to_be_reexecuted": false,
    "execution_millis": 7,
    "execution_start": 1664565532900,
    "source_hash": "560a449a",
    "tags": []
   },
   "outputs": [],
   "source": [
    "def short_function_analyse_univariée(df,column):\n",
    "    print('la valeur mediane de {} est de {}'.format(column, df[column].median()))\n",
    "    print('la valeur moyenne de {} est de {}'.format(column, df[column].mean()))\n",
    "    print('___')"
   ]
  },
  {
   "cell_type": "code",
   "execution_count": null,
   "metadata": {
    "cell_id": "214dca2eb57b4784a294812f7fa4617f",
    "deepnote_cell_height": 227.375,
    "deepnote_cell_type": "code",
    "deepnote_output_heights": [
     135.390625
    ],
    "deepnote_to_be_reexecuted": false,
    "execution_millis": 83,
    "execution_start": 1664565532908,
    "source_hash": "d97e7958",
    "tags": []
   },
   "outputs": [
    {
     "data": {
      "text/plain": [
       "['is_genuine',\n",
       " 'diagonal',\n",
       " 'height_left',\n",
       " 'height_right',\n",
       " 'margin_low',\n",
       " 'margin_up',\n",
       " 'length']"
      ]
     },
     "execution_count": 8,
     "metadata": {},
     "output_type": "execute_result"
    }
   ],
   "source": [
    "df_notes.columns.to_list()"
   ]
  },
  {
   "cell_type": "code",
   "execution_count": null,
   "metadata": {
    "cell_id": "4f98183849da4ec3acb90252811a0996",
    "deepnote_cell_height": 615,
    "deepnote_cell_type": "code",
    "deepnote_to_be_reexecuted": false,
    "execution_millis": 82,
    "execution_start": 1664565532910,
    "source_hash": "1765e420",
    "tags": []
   },
   "outputs": [
    {
     "name": "stdout",
     "output_type": "stream",
     "text": [
      "la valeur mediane de is_genuine est de 1.0\n",
      "la valeur moyenne de is_genuine est de 0.5882352941176471\n",
      "___\n",
      "la valeur mediane de diagonal est de 171.945\n",
      "la valeur moyenne de diagonal est de 171.94058823529411\n",
      "___\n",
      "la valeur mediane de height_left est de 104.055\n",
      "la valeur moyenne de height_left est de 104.06635294117646\n",
      "___\n",
      "la valeur mediane de height_right est de 103.95\n",
      "la valeur moyenne de height_right est de 103.92811764705881\n",
      "___\n",
      "la valeur mediane de margin_low est de 4.45\n",
      "la valeur moyenne de margin_low est de 4.612117647058823\n",
      "___\n",
      "la valeur mediane de margin_up est de 3.17\n",
      "la valeur moyenne de margin_up est de 3.1704117647058827\n",
      "___\n",
      "la valeur mediane de length est de 112.845\n",
      "la valeur moyenne de length est de 112.5704117647059\n",
      "___\n"
     ]
    }
   ],
   "source": [
    "short_function_analyse_univariée(df_notes,'is_genuine')\n",
    "short_function_analyse_univariée(df_notes,'diagonal')\n",
    "short_function_analyse_univariée(df_notes,'height_left')\n",
    "short_function_analyse_univariée(df_notes,'height_right')\n",
    "short_function_analyse_univariée(df_notes,'margin_low')\n",
    "short_function_analyse_univariée(df_notes,'margin_up')\n",
    "short_function_analyse_univariée(df_notes,'length')"
   ]
  },
  {
   "cell_type": "code",
   "execution_count": null,
   "metadata": {
    "cell_id": "0284728800d34710a8eb1f490c59fb84",
    "deepnote_cell_height": 707.375,
    "deepnote_cell_type": "code",
    "deepnote_output_heights": [
     507.375
    ],
    "deepnote_to_be_reexecuted": false,
    "execution_millis": 329,
    "execution_start": 1664565532920,
    "source_hash": "df39dd65",
    "tags": []
   },
   "outputs": [
    {
     "data": {
      "image/png": "[encoded data removed]",
      "text/plain": [
       "<Figure size 1000x700 with 1 Axes>"
      ]
     },
     "metadata": {
      "image/png": {
       "height": 582,
       "width": 822
      }
     },
     "output_type": "display_data"
    }
   ],
   "source": [
    "#histogramme\n",
    "\n",
    "plt.figure(figsize =(10, 7))\n",
    "plt.hist(df_notes['diagonal'], bins=30)\n",
    "plt.show()\n",
    "\n",
    "#plt.savefig('histogramme_diagonale.png')"
   ]
  },
  {
   "cell_type": "code",
   "execution_count": null,
   "metadata": {
    "cell_id": "5518b43e8e84488b965c3c55376fabab",
    "deepnote_cell_height": 239.59375,
    "deepnote_cell_type": "code",
    "deepnote_to_be_reexecuted": false,
    "execution_millis": 23,
    "execution_start": 1664565533295,
    "source_hash": "356ea665",
    "tags": []
   },
   "outputs": [
    {
     "data": {
      "application/vnd.deepnote.dataframe.v3+json": {
       "column_count": 7,
       "columns": [
        {
         "dtype": "bool",
         "name": "is_genuine",
         "stats": {
          "categories": [
           {
            "count": 1,
            "name": "True"
           }
          ],
          "nan_count": 0,
          "unique_count": 1
         }
        },
        {
         "dtype": "float64",
         "name": "diagonal",
         "stats": {
          "histogram": [
           {
            "bin_end": 171.41,
            "bin_start": 171.31,
            "count": 0
           },
           {
            "bin_end": 171.51,
            "bin_start": 171.41,
            "count": 0
           },
           {
            "bin_end": 171.61,
            "bin_start": 171.51,
            "count": 0
           },
           {
            "bin_end": 171.71,
            "bin_start": 171.61,
            "count": 0
           },
           {
            "bin_end": 171.81,
            "bin_start": 171.71,
            "count": 0
           },
           {
            "bin_end": 171.91,
            "bin_start": 171.81,
            "count": 1
           },
           {
            "bin_end": 172.01,
            "bin_start": 171.91,
            "count": 0
           },
           {
            "bin_end": 172.11,
            "bin_start": 172.01,
            "count": 0
           },
           {
            "bin_end": 172.21,
            "bin_start": 172.11,
            "count": 0
           },
           {
            "bin_end": 172.31,
            "bin_start": 172.21,
            "count": 0
           }
          ],
          "max": "171.81",
          "min": "171.81",
          "nan_count": 0,
          "unique_count": 1
         }
        },
        {
         "dtype": "float64",
         "name": "height_left",
         "stats": {
          "histogram": [
           {
            "bin_end": 104.46,
            "bin_start": 104.36,
            "count": 0
           },
           {
            "bin_end": 104.56,
            "bin_start": 104.46,
            "count": 0
           },
           {
            "bin_end": 104.66,
            "bin_start": 104.56,
            "count": 0
           },
           {
            "bin_end": 104.76,
            "bin_start": 104.66,
            "count": 0
           },
           {
            "bin_end": 104.86,
            "bin_start": 104.76,
            "count": 0
           },
           {
            "bin_end": 104.96,
            "bin_start": 104.86,
            "count": 1
           },
           {
            "bin_end": 105.06,
            "bin_start": 104.96,
            "count": 0
           },
           {
            "bin_end": 105.16,
            "bin_start": 105.06,
            "count": 0
           },
           {
            "bin_end": 105.26,
            "bin_start": 105.16,
            "count": 0
           },
           {
            "bin_end": 105.36,
            "bin_start": 105.26,
            "count": 0
           }
          ],
          "max": "104.86",
          "min": "104.86",
          "nan_count": 0,
          "unique_count": 1
         }
        },
        {
         "dtype": "float64",
         "name": "height_right",
         "stats": {
          "histogram": [
           {
            "bin_end": 104.55,
            "bin_start": 104.45,
            "count": 0
           },
           {
            "bin_end": 104.65,
            "bin_start": 104.55,
            "count": 0
           },
           {
            "bin_end": 104.75,
            "bin_start": 104.65,
            "count": 0
           },
           {
            "bin_end": 104.85000000000001,
            "bin_start": 104.75,
            "count": 0
           },
           {
            "bin_end": 104.95,
            "bin_start": 104.85000000000001,
            "count": 0
           },
           {
            "bin_end": 105.05,
            "bin_start": 104.95,
            "count": 1
           },
           {
            "bin_end": 105.15,
            "bin_start": 105.05,
            "count": 0
           },
           {
            "bin_end": 105.25,
            "bin_start": 105.15,
            "count": 0
           },
           {
            "bin_end": 105.35000000000001,
            "bin_start": 105.25,
            "count": 0
           },
           {
            "bin_end": 105.45,
            "bin_start": 105.35000000000001,
            "count": 0
           }
          ],
          "max": "104.95",
          "min": "104.95",
          "nan_count": 0,
          "unique_count": 1
         }
        },
        {
         "dtype": "float64",
         "name": "margin_low",
         "stats": {
          "histogram": [
           {
            "bin_end": 4.119999999999999,
            "bin_start": 4.02,
            "count": 0
           },
           {
            "bin_end": 4.22,
            "bin_start": 4.119999999999999,
            "count": 0
           },
           {
            "bin_end": 4.319999999999999,
            "bin_start": 4.22,
            "count": 0
           },
           {
            "bin_end": 4.42,
            "bin_start": 4.319999999999999,
            "count": 0
           },
           {
            "bin_end": 4.52,
            "bin_start": 4.42,
            "count": 0
           },
           {
            "bin_end": 4.619999999999999,
            "bin_start": 4.52,
            "count": 1
           },
           {
            "bin_end": 4.72,
            "bin_start": 4.619999999999999,
            "count": 0
           },
           {
            "bin_end": 4.819999999999999,
            "bin_start": 4.72,
            "count": 0
           },
           {
            "bin_end": 4.92,
            "bin_start": 4.819999999999999,
            "count": 0
           },
           {
            "bin_end": 5.02,
            "bin_start": 4.92,
            "count": 0
           }
          ],
          "max": "4.52",
          "min": "4.52",
          "nan_count": 0,
          "unique_count": 1
         }
        },
        {
         "dtype": "float64",
         "name": "margin_up",
         "stats": {
          "histogram": [
           {
            "bin_end": 2.49,
            "bin_start": 2.39,
            "count": 0
           },
           {
            "bin_end": 2.5900000000000003,
            "bin_start": 2.49,
            "count": 0
           },
           {
            "bin_end": 2.6900000000000004,
            "bin_start": 2.5900000000000003,
            "count": 0
           },
           {
            "bin_end": 2.79,
            "bin_start": 2.6900000000000004,
            "count": 0
           },
           {
            "bin_end": 2.89,
            "bin_start": 2.79,
            "count": 0
           },
           {
            "bin_end": 2.99,
            "bin_start": 2.89,
            "count": 1
           },
           {
            "bin_end": 3.0900000000000003,
            "bin_start": 2.99,
            "count": 0
           },
           {
            "bin_end": 3.1900000000000004,
            "bin_start": 3.0900000000000003,
            "count": 0
           },
           {
            "bin_end": 3.29,
            "bin_start": 3.1900000000000004,
            "count": 0
           },
           {
            "bin_end": 3.39,
            "bin_start": 3.29,
            "count": 0
           }
          ],
          "max": "2.89",
          "min": "2.89",
          "nan_count": 0,
          "unique_count": 1
         }
        },
        {
         "dtype": "float64",
         "name": "length",
         "stats": {
          "histogram": [
           {
            "bin_end": 112.42999999999999,
            "bin_start": 112.33,
            "count": 0
           },
           {
            "bin_end": 112.53,
            "bin_start": 112.42999999999999,
            "count": 0
           },
           {
            "bin_end": 112.63,
            "bin_start": 112.53,
            "count": 0
           },
           {
            "bin_end": 112.73,
            "bin_start": 112.63,
            "count": 0
           },
           {
            "bin_end": 112.83,
            "bin_start": 112.73,
            "count": 0
           },
           {
            "bin_end": 112.92999999999999,
            "bin_start": 112.83,
            "count": 1
           },
           {
            "bin_end": 113.03,
            "bin_start": 112.92999999999999,
            "count": 0
           },
           {
            "bin_end": 113.13,
            "bin_start": 113.03,
            "count": 0
           },
           {
            "bin_end": 113.23,
            "bin_start": 113.13,
            "count": 0
           },
           {
            "bin_end": 113.33,
            "bin_start": 113.23,
            "count": 0
           }
          ],
          "max": "112.83",
          "min": "112.83",
          "nan_count": 0,
          "unique_count": 1
         }
        },
        {
         "dtype": "int64",
         "name": "_deepnote_index_column"
        }
       ],
       "row_count": 1,
       "rows": [
        {
         "_deepnote_index_column": "0",
         "diagonal": "171.81",
         "height_left": "104.86",
         "height_right": "104.95",
         "is_genuine": "True",
         "length": "112.83",
         "margin_low": "4.52",
         "margin_up": "2.89"
        }
       ]
      },
      "text/html": [
       "<div>\n",
       "<style scoped>\n",
       "    .dataframe tbody tr th:only-of-type {\n",
       "        vertical-align: middle;\n",
       "    }\n",
       "\n",
       "    .dataframe tbody tr th {\n",
       "        vertical-align: top;\n",
       "    }\n",
       "\n",
       "    .dataframe thead th {\n",
       "        text-align: right;\n",
       "    }\n",
       "</style>\n",
       "<table border=\"1\" class=\"dataframe\">\n",
       "  <thead>\n",
       "    <tr style=\"text-align: right;\">\n",
       "      <th></th>\n",
       "      <th>is_genuine</th>\n",
       "      <th>diagonal</th>\n",
       "      <th>height_left</th>\n",
       "      <th>height_right</th>\n",
       "      <th>margin_low</th>\n",
       "      <th>margin_up</th>\n",
       "      <th>length</th>\n",
       "    </tr>\n",
       "  </thead>\n",
       "  <tbody>\n",
       "    <tr>\n",
       "      <th>0</th>\n",
       "      <td>True</td>\n",
       "      <td>171.81</td>\n",
       "      <td>104.86</td>\n",
       "      <td>104.95</td>\n",
       "      <td>4.52</td>\n",
       "      <td>2.89</td>\n",
       "      <td>112.83</td>\n",
       "    </tr>\n",
       "  </tbody>\n",
       "</table>\n",
       "</div>"
      ],
      "text/plain": [
       "   is_genuine  diagonal  height_left  height_right  margin_low  margin_up  \\\n",
       "0        True    171.81       104.86        104.95        4.52       2.89   \n",
       "\n",
       "   length  \n",
       "0  112.83  "
      ]
     },
     "execution_count": 12,
     "metadata": {},
     "output_type": "execute_result"
    }
   ],
   "source": [
    "df_notes.head(1)"
   ]
  },
  {
   "cell_type": "code",
   "execution_count": null,
   "metadata": {
    "cell_id": "c4179ff5b7ac42a8b31a5423e22d43ae",
    "deepnote_cell_height": 624,
    "deepnote_cell_type": "code",
    "deepnote_output_heights": [
     508.84375
    ],
    "deepnote_to_be_reexecuted": false,
    "execution_millis": 421,
    "execution_start": 1664565533316,
    "source_hash": "35b7fed4",
    "tags": []
   },
   "outputs": [
    {
     "data": {
      "image/png": "[encoded data removed]",
      "text/plain": [
       "<Figure size 1000x700 with 2 Axes>"
      ]
     },
     "metadata": {
      "image/png": {
       "height": 605,
       "width": 852
      }
     },
     "output_type": "display_data"
    }
   ],
   "source": [
    "scatterplot_right_left_diag = df_notes.plot.scatter(x='height_right',y='height_left', c='diagonal',colormap='viridis', figsize=(10,7))\n",
    "#scatterplot_diag_left_right.figure.savefig('price__age_categorie.png')"
   ]
  },
  {
   "cell_type": "markdown",
   "metadata": {
    "cell_id": "db6a668b43734273b25628e81def2d89",
    "deepnote_cell_type": "text-cell-h1",
    "formattedRanges": [],
    "is_collapsed": false,
    "tags": []
   },
   "source": [
    "# Mission 1"
   ]
  },
  {
   "cell_type": "markdown",
   "metadata": {
    "cell_id": "179f2a2af8174166a3cf72a595183988",
    "deepnote_cell_type": "text-cell-p",
    "formattedRanges": [],
    "is_collapsed": false,
    "tags": []
   },
   "source": [
    "Vous réaliserez une analyse en composantes principales de l'échantillon, en suivant toutes ces étapes :"
   ]
  },
  {
   "cell_type": "markdown",
   "metadata": {
    "cell_id": "b9b38859-528e-4f8f-8074-580bd6552d9d",
    "deepnote_cell_type": "text-cell-p",
    "formattedRanges": [],
    "is_collapsed": false,
    "tags": []
   },
   "source": [
    "analyse de l'éboulis des valeurs propres ;\n"
   ]
  },
  {
   "cell_type": "markdown",
   "metadata": {
    "cell_id": "db4d10ae-707a-44c7-b904-2bce2448a028",
    "deepnote_cell_type": "text-cell-bullet",
    "formattedRanges": [],
    "is_collapsed": false,
    "tags": []
   },
   "source": [
    "- représentation des variables par le cercle des corrélations ;"
   ]
  },
  {
   "cell_type": "markdown",
   "metadata": {
    "cell_id": "ebbc7e37-7de9-43ee-870f-6c81ba464901",
    "deepnote_cell_type": "text-cell-bullet",
    "formattedRanges": [],
    "is_collapsed": false,
    "tags": []
   },
   "source": [
    "- représentation des individus par les plans factoriels ;"
   ]
  },
  {
   "cell_type": "markdown",
   "metadata": {
    "cell_id": "fd867d7a-92f1-449c-a2b5-498be99ee2e0",
    "deepnote_cell_type": "text-cell-bullet",
    "formattedRanges": [],
    "is_collapsed": false,
    "tags": []
   },
   "source": [
    "- analyser de la qualité de représentation et la contribution des individus."
   ]
  },
  {
   "cell_type": "markdown",
   "metadata": {
    "cell_id": "d3a24baa-ab3e-4faa-86a5-bd65e8d644a7",
    "deepnote_cell_type": "text-cell-bullet",
    "formattedRanges": [],
    "is_collapsed": false,
    "tags": []
   },
   "source": [
    "- Pour chacune de ces étapes, commentez les résultats obtenus. La variable donnant la nature Vrai/Faux du billet sera utilisée comme variable illustrative."
   ]
  },
  {
   "cell_type": "code",
   "execution_count": null,
   "metadata": {
    "cell_id": "80af8852f0b54378b449a245a7963088",
    "code_folding": [],
    "deepnote_cell_height": 931,
    "deepnote_cell_type": "code",
    "deepnote_output_heights": [
     456
    ],
    "deepnote_to_be_reexecuted": false,
    "execution_millis": 269,
    "execution_start": 1664565533742,
    "source_hash": "2675a8a5",
    "tags": []
   },
   "outputs": [
    {
     "data": {
      "image/png": "[encoded data removed]",
      "text/plain": [
       "<Figure size 640x480 with 1 Axes>"
      ]
     },
     "metadata": {
      "image/png": {
       "height": 455,
       "width": 571
      }
     },
     "output_type": "display_data"
    }
   ],
   "source": [
    "# choix du nombre de composantes à calculer\n",
    "n_comp = 6\n",
    "\n",
    "# selection des colonnes à prendre en compte dans l'ACP\n",
    "df_notes_pca = df_notes[['is_genuine', 'diagonal', 'height_left', 'height_right', 'margin_low', 'margin_up', 'length']]\n",
    "\n",
    "# préparation des données pour l'ACP\n",
    "df_notes_pca = df_notes_pca.fillna(df_notes_pca.mean()) # Il est fréquent de remplacer les valeurs inconnues par la moyenne de la variable\n",
    "X = df_notes_pca.values\n",
    "names = df_notes.index #data[\"idCours\"] pour avoir les intitulés\n",
    "features = df_notes.columns\n",
    "\n",
    "# Centrage et Réduction\n",
    "std_scale = preprocessing.StandardScaler().fit(X)\n",
    "X_scaled = std_scale.transform(X)\n",
    "\n",
    "# Calcul des composantes principales\n",
    "pca = decomposition.PCA(n_components=n_comp)\n",
    "pca.fit(X_scaled)\n",
    "\n",
    "# Eboulis des valeurs propres\n",
    "display_scree_plot(pca)"
   ]
  },
  {
   "cell_type": "code",
   "execution_count": null,
   "metadata": {
    "cell_id": "00030-c27b0f78-897c-4002-87bb-431c9b57470c",
    "deepnote_cell_height": 1834,
    "deepnote_cell_type": "code",
    "deepnote_output_heights": [
     548,
     548,
     548
    ],
    "deepnote_to_be_reexecuted": false,
    "execution_millis": 1900,
    "execution_start": 1664565534013,
    "source_hash": "43e3830e"
   },
   "outputs": [
    {
     "data": {
      "image/png": "[encoded data removed]",
      "text/plain": [
       "<Figure size 700x600 with 1 Axes>"
      ]
     },
     "metadata": {
      "image/png": {
       "height": 547,
       "width": 649
      }
     },
     "output_type": "display_data"
    },
    {
     "data": {
      "image/png": "[encoded data removed]",
      "text/plain": [
       "<Figure size 700x600 with 1 Axes>"
      ]
     },
     "metadata": {
      "image/png": {
       "height": 547,
       "width": 649
      }
     },
     "output_type": "display_data"
    },
    {
     "data": {
      "image/png": "[encoded data removed]",
      "text/plain": [
       "<Figure size 700x600 with 1 Axes>"
      ]
     },
     "metadata": {
      "image/png": {
       "height": 547,
       "width": 649
      }
     },
     "output_type": "display_data"
    }
   ],
   "source": [
    "# Cercle des corrélations\n",
    "pcs = pca.components_\n",
    "display_circles(pcs, n_comp, pca, [(0,1),(2,3),(4,5)], labels = np.array(features))"
   ]
  },
  {
   "cell_type": "code",
   "execution_count": null,
   "metadata": {
    "cell_id": "00031-8c6b481e-54ff-45c3-804c-1ab73d481e9a",
    "deepnote_cell_height": 1906,
    "deepnote_cell_type": "code",
    "deepnote_output_heights": [
     548,
     548,
     548
    ],
    "deepnote_to_be_reexecuted": false,
    "execution_millis": 931,
    "execution_start": 1664565535235,
    "source_hash": "416a8cef"
   },
   "outputs": [
    {
     "data": {
      "image/png": "[encoded data removed]",
      "text/plain": [
       "<Figure size 700x600 with 1 Axes>"
      ]
     },
     "metadata": {
      "image/png": {
       "height": 547,
       "width": 612
      }
     },
     "output_type": "display_data"
    },
    {
     "data": {
      "image/png": "[encoded data removed]",
      "text/plain": [
       "<Figure size 700x600 with 1 Axes>"
      ]
     },
     "metadata": {
      "image/png": {
       "height": 547,
       "width": 612
      }
     },
     "output_type": "display_data"
    },
    {
     "data": {
      "image/png": "[encoded data removed]",
      "text/plain": [
       "<Figure size 700x600 with 1 Axes>"
      ]
     },
     "metadata": {
      "image/png": {
       "height": 547,
       "width": 612
      }
     },
     "output_type": "display_data"
    }
   ],
   "source": [
    "# Projection des individus\n",
    "X_projected = pca.transform(X_scaled)\n",
    "display_factorial_planes(X_projected, n_comp, pca, [(0,1),(2,3),(4,5)],\n",
    "                         #labels = np.array(names)\n",
    "                        )\n",
    "\n",
    "plt.show()"
   ]
  },
  {
   "cell_type": "markdown",
   "metadata": {
    "cell_id": "237df235098b4c4ab4c9e05795161a59",
    "deepnote_cell_type": "text-cell-h1",
    "formattedRanges": [],
    "is_collapsed": false,
    "tags": []
   },
   "source": [
    "# Mission 2"
   ]
  },
  {
   "cell_type": "markdown",
   "metadata": {
    "cell_id": "2bc076f555674f6aa2b893b7f2d7d627",
    "deepnote_cell_height": 88.796875,
    "deepnote_cell_type": "markdown",
    "tags": []
   },
   "source": [
    "Appliquez un algorithme de classification, puis analysez le résultat obtenu.\n",
    "\n",
    "Visualisez la partition obtenue dans le premier plan factoriel de l'ACP, puis analysez-la."
   ]
  },
  {
   "cell_type": "code",
   "execution_count": null,
   "metadata": {
    "cell_id": "c692f7308ade45e58292acebf987ce12",
    "deepnote_cell_height": 608.59375,
    "deepnote_cell_type": "code",
    "deepnote_to_be_reexecuted": false,
    "execution_millis": 119,
    "execution_start": 1664565536050,
    "source_hash": "50f6fdf6",
    "tags": []
   },
   "outputs": [
    {
     "data": {
      "application/vnd.deepnote.dataframe.v3+json": {
       "column_count": 7,
       "columns": [
        {
         "dtype": "bool",
         "name": "is_genuine",
         "stats": {
          "categories": [
           {
            "count": 100,
            "name": "True"
           },
           {
            "count": 70,
            "name": "False"
           }
          ],
          "nan_count": 0,
          "unique_count": 2
         }
        },
        {
         "dtype": "float64",
         "name": "diagonal",
         "stats": {
          "histogram": [
           {
            "bin_end": 171.237,
            "bin_start": 171.04,
            "count": 2
           },
           {
            "bin_end": 171.434,
            "bin_start": 171.237,
            "count": 5
           },
           {
            "bin_end": 171.631,
            "bin_start": 171.434,
            "count": 18
           },
           {
            "bin_end": 171.828,
            "bin_start": 171.631,
            "count": 39
           },
           {
            "bin_end": 172.02499999999998,
            "bin_start": 171.828,
            "count": 39
           },
           {
            "bin_end": 172.22199999999998,
            "bin_start": 172.02499999999998,
            "count": 43
           },
           {
            "bin_end": 172.41899999999998,
            "bin_start": 172.22199999999998,
            "count": 13
           },
           {
            "bin_end": 172.61599999999999,
            "bin_start": 172.41899999999998,
            "count": 9
           },
           {
            "bin_end": 172.813,
            "bin_start": 172.61599999999999,
            "count": 1
           },
           {
            "bin_end": 173.01,
            "bin_start": 172.813,
            "count": 1
           }
          ],
          "max": "173.01",
          "min": "171.04",
          "nan_count": 0,
          "unique_count": 88
         }
        },
        {
         "dtype": "float64",
         "name": "height_left",
         "stats": {
          "histogram": [
           {
            "bin_end": 103.393,
            "bin_start": 103.23,
            "count": 1
           },
           {
            "bin_end": 103.556,
            "bin_start": 103.393,
            "count": 6
           },
           {
            "bin_end": 103.71900000000001,
            "bin_start": 103.556,
            "count": 12
           },
           {
            "bin_end": 103.882,
            "bin_start": 103.71900000000001,
            "count": 30
           },
           {
            "bin_end": 104.045,
            "bin_start": 103.882,
            "count": 34
           },
           {
            "bin_end": 104.208,
            "bin_start": 104.045,
            "count": 29
           },
           {
            "bin_end": 104.371,
            "bin_start": 104.208,
            "count": 31
           },
           {
            "bin_end": 104.534,
            "bin_start": 104.371,
            "count": 17
           },
           {
            "bin_end": 104.697,
            "bin_start": 104.534,
            "count": 8
           },
           {
            "bin_end": 104.86,
            "bin_start": 104.697,
            "count": 2
           }
          ],
          "max": "104.86",
          "min": "103.23",
          "nan_count": 0,
          "unique_count": 91
         }
        },
        {
         "dtype": "float64",
         "name": "height_right",
         "stats": {
          "histogram": [
           {
            "bin_end": 103.321,
            "bin_start": 103.14,
            "count": 4
           },
           {
            "bin_end": 103.502,
            "bin_start": 103.321,
            "count": 16
           },
           {
            "bin_end": 103.683,
            "bin_start": 103.502,
            "count": 22
           },
           {
            "bin_end": 103.864,
            "bin_start": 103.683,
            "count": 29
           },
           {
            "bin_end": 104.045,
            "bin_start": 103.864,
            "count": 33
           },
           {
            "bin_end": 104.226,
            "bin_start": 104.045,
            "count": 35
           },
           {
            "bin_end": 104.407,
            "bin_start": 104.226,
            "count": 22
           },
           {
            "bin_end": 104.58800000000001,
            "bin_start": 104.407,
            "count": 5
           },
           {
            "bin_end": 104.769,
            "bin_start": 104.58800000000001,
            "count": 1
           },
           {
            "bin_end": 104.95,
            "bin_start": 104.769,
            "count": 3
           }
          ],
          "max": "104.95",
          "min": "103.14",
          "nan_count": 0,
          "unique_count": 96
         }
        },
        {
         "dtype": "float64",
         "name": "margin_low",
         "stats": {
          "histogram": [
           {
            "bin_end": 3.814,
            "bin_start": 3.54,
            "count": 19
           },
           {
            "bin_end": 4.088,
            "bin_start": 3.814,
            "count": 34
           },
           {
            "bin_end": 4.362,
            "bin_start": 4.088,
            "count": 26
           },
           {
            "bin_end": 4.636,
            "bin_start": 4.362,
            "count": 24
           },
           {
            "bin_end": 4.91,
            "bin_start": 4.636,
            "count": 11
           },
           {
            "bin_end": 5.184,
            "bin_start": 4.91,
            "count": 16
           },
           {
            "bin_end": 5.458,
            "bin_start": 5.184,
            "count": 11
           },
           {
            "bin_end": 5.732,
            "bin_start": 5.458,
            "count": 13
           },
           {
            "bin_end": 6.006,
            "bin_start": 5.732,
            "count": 11
           },
           {
            "bin_end": 6.28,
            "bin_start": 6.006,
            "count": 5
           }
          ],
          "max": "6.28",
          "min": "3.54",
          "nan_count": 0,
          "unique_count": 123
         }
        },
        {
         "dtype": "float64",
         "name": "margin_up",
         "stats": {
          "histogram": [
           {
            "bin_end": 2.411,
            "bin_start": 2.27,
            "count": 1
           },
           {
            "bin_end": 2.552,
            "bin_start": 2.411,
            "count": 0
           },
           {
            "bin_end": 2.693,
            "bin_start": 2.552,
            "count": 1
           },
           {
            "bin_end": 2.834,
            "bin_start": 2.693,
            "count": 9
           },
           {
            "bin_end": 2.975,
            "bin_start": 2.834,
            "count": 23
           },
           {
            "bin_end": 3.116,
            "bin_start": 2.975,
            "count": 36
           },
           {
            "bin_end": 3.257,
            "bin_start": 3.116,
            "count": 43
           },
           {
            "bin_end": 3.398,
            "bin_start": 3.257,
            "count": 28
           },
           {
            "bin_end": 3.539,
            "bin_start": 3.398,
            "count": 17
           },
           {
            "bin_end": 3.68,
            "bin_start": 3.539,
            "count": 12
           }
          ],
          "max": "3.68",
          "min": "2.27",
          "nan_count": 0,
          "unique_count": 81
         }
        },
        {
         "dtype": "float64",
         "name": "length",
         "stats": {
          "histogram": [
           {
            "bin_end": 110.371,
            "bin_start": 109.97,
            "count": 2
           },
           {
            "bin_end": 110.772,
            "bin_start": 110.371,
            "count": 7
           },
           {
            "bin_end": 111.173,
            "bin_start": 110.772,
            "count": 6
           },
           {
            "bin_end": 111.574,
            "bin_start": 111.173,
            "count": 15
           },
           {
            "bin_end": 111.975,
            "bin_start": 111.574,
            "count": 23
           },
           {
            "bin_end": 112.376,
            "bin_start": 111.975,
            "count": 11
           },
           {
            "bin_end": 112.777,
            "bin_start": 112.376,
            "count": 14
           },
           {
            "bin_end": 113.178,
            "bin_start": 112.777,
            "count": 37
           },
           {
            "bin_end": 113.57900000000001,
            "bin_start": 113.178,
            "count": 36
           },
           {
            "bin_end": 113.98,
            "bin_start": 113.57900000000001,
            "count": 19
           }
          ],
          "max": "113.98",
          "min": "109.97",
          "nan_count": 0,
          "unique_count": 129
         }
        },
        {
         "dtype": "int64",
         "name": "_deepnote_index_column"
        }
       ],
       "row_count": 170,
       "rows": [
        {
         "_deepnote_index_column": "0",
         "diagonal": "171.81",
         "height_left": "104.86",
         "height_right": "104.95",
         "is_genuine": "True",
         "length": "112.83",
         "margin_low": "4.52",
         "margin_up": "2.89"
        },
        {
         "_deepnote_index_column": "1",
         "diagonal": "171.67",
         "height_left": "103.74",
         "height_right": "103.7",
         "is_genuine": "True",
         "length": "113.29",
         "margin_low": "4.01",
         "margin_up": "2.87"
        },
        {
         "_deepnote_index_column": "2",
         "diagonal": "171.83",
         "height_left": "103.76",
         "height_right": "103.76",
         "is_genuine": "True",
         "length": "113.84",
         "margin_low": "4.4",
         "margin_up": "2.88"
        },
        {
         "_deepnote_index_column": "3",
         "diagonal": "171.8",
         "height_left": "103.78",
         "height_right": "103.65",
         "is_genuine": "True",
         "length": "113.63",
         "margin_low": "3.73",
         "margin_up": "3.12"
        },
        {
         "_deepnote_index_column": "4",
         "diagonal": "172.05",
         "height_left": "103.7",
         "height_right": "103.75",
         "is_genuine": "True",
         "length": "113.55",
         "margin_low": "5.04",
         "margin_up": "2.27"
        },
        {
         "_deepnote_index_column": "5",
         "diagonal": "172.57",
         "height_left": "104.65",
         "height_right": "104.44",
         "is_genuine": "True",
         "length": "113.16",
         "margin_low": "4.54",
         "margin_up": "2.99"
        },
        {
         "_deepnote_index_column": "6",
         "diagonal": "172.38",
         "height_left": "103.55",
         "height_right": "103.8",
         "is_genuine": "True",
         "length": "113.3",
         "margin_low": "3.97",
         "margin_up": "2.9"
        },
        {
         "_deepnote_index_column": "7",
         "diagonal": "171.58",
         "height_left": "103.65",
         "height_right": "103.37",
         "is_genuine": "True",
         "length": "113.38",
         "margin_low": "3.54",
         "margin_up": "3.19"
        },
        {
         "_deepnote_index_column": "8",
         "diagonal": "171.96",
         "height_left": "103.51",
         "height_right": "103.75",
         "is_genuine": "True",
         "length": "113.53",
         "margin_low": "4.06",
         "margin_up": "3.33"
        },
        {
         "_deepnote_index_column": "9",
         "diagonal": "172.14",
         "height_left": "104.34",
         "height_right": "104.2",
         "is_genuine": "True",
         "length": "112.47",
         "margin_low": "4.63",
         "margin_up": "3.02"
        }
       ]
      },
      "text/html": [
       "<div>\n",
       "<style scoped>\n",
       "    .dataframe tbody tr th:only-of-type {\n",
       "        vertical-align: middle;\n",
       "    }\n",
       "\n",
       "    .dataframe tbody tr th {\n",
       "        vertical-align: top;\n",
       "    }\n",
       "\n",
       "    .dataframe thead th {\n",
       "        text-align: right;\n",
       "    }\n",
       "</style>\n",
       "<table border=\"1\" class=\"dataframe\">\n",
       "  <thead>\n",
       "    <tr style=\"text-align: right;\">\n",
       "      <th></th>\n",
       "      <th>is_genuine</th>\n",
       "      <th>diagonal</th>\n",
       "      <th>height_left</th>\n",
       "      <th>height_right</th>\n",
       "      <th>margin_low</th>\n",
       "      <th>margin_up</th>\n",
       "      <th>length</th>\n",
       "    </tr>\n",
       "  </thead>\n",
       "  <tbody>\n",
       "    <tr>\n",
       "      <th>0</th>\n",
       "      <td>True</td>\n",
       "      <td>171.81</td>\n",
       "      <td>104.86</td>\n",
       "      <td>104.95</td>\n",
       "      <td>4.52</td>\n",
       "      <td>2.89</td>\n",
       "      <td>112.83</td>\n",
       "    </tr>\n",
       "    <tr>\n",
       "      <th>1</th>\n",
       "      <td>True</td>\n",
       "      <td>171.67</td>\n",
       "      <td>103.74</td>\n",
       "      <td>103.70</td>\n",
       "      <td>4.01</td>\n",
       "      <td>2.87</td>\n",
       "      <td>113.29</td>\n",
       "    </tr>\n",
       "    <tr>\n",
       "      <th>2</th>\n",
       "      <td>True</td>\n",
       "      <td>171.83</td>\n",
       "      <td>103.76</td>\n",
       "      <td>103.76</td>\n",
       "      <td>4.40</td>\n",
       "      <td>2.88</td>\n",
       "      <td>113.84</td>\n",
       "    </tr>\n",
       "    <tr>\n",
       "      <th>3</th>\n",
       "      <td>True</td>\n",
       "      <td>171.80</td>\n",
       "      <td>103.78</td>\n",
       "      <td>103.65</td>\n",
       "      <td>3.73</td>\n",
       "      <td>3.12</td>\n",
       "      <td>113.63</td>\n",
       "    </tr>\n",
       "    <tr>\n",
       "      <th>4</th>\n",
       "      <td>True</td>\n",
       "      <td>172.05</td>\n",
       "      <td>103.70</td>\n",
       "      <td>103.75</td>\n",
       "      <td>5.04</td>\n",
       "      <td>2.27</td>\n",
       "      <td>113.55</td>\n",
       "    </tr>\n",
       "    <tr>\n",
       "      <th>...</th>\n",
       "      <td>...</td>\n",
       "      <td>...</td>\n",
       "      <td>...</td>\n",
       "      <td>...</td>\n",
       "      <td>...</td>\n",
       "      <td>...</td>\n",
       "      <td>...</td>\n",
       "    </tr>\n",
       "    <tr>\n",
       "      <th>165</th>\n",
       "      <td>False</td>\n",
       "      <td>172.11</td>\n",
       "      <td>104.23</td>\n",
       "      <td>104.45</td>\n",
       "      <td>5.24</td>\n",
       "      <td>3.58</td>\n",
       "      <td>111.78</td>\n",
       "    </tr>\n",
       "    <tr>\n",
       "      <th>166</th>\n",
       "      <td>False</td>\n",
       "      <td>173.01</td>\n",
       "      <td>104.59</td>\n",
       "      <td>104.31</td>\n",
       "      <td>5.04</td>\n",
       "      <td>3.05</td>\n",
       "      <td>110.91</td>\n",
       "    </tr>\n",
       "    <tr>\n",
       "      <th>167</th>\n",
       "      <td>False</td>\n",
       "      <td>172.47</td>\n",
       "      <td>104.27</td>\n",
       "      <td>104.10</td>\n",
       "      <td>4.88</td>\n",
       "      <td>3.33</td>\n",
       "      <td>110.68</td>\n",
       "    </tr>\n",
       "    <tr>\n",
       "      <th>168</th>\n",
       "      <td>False</td>\n",
       "      <td>171.82</td>\n",
       "      <td>103.97</td>\n",
       "      <td>103.88</td>\n",
       "      <td>4.73</td>\n",
       "      <td>3.55</td>\n",
       "      <td>111.87</td>\n",
       "    </tr>\n",
       "    <tr>\n",
       "      <th>169</th>\n",
       "      <td>False</td>\n",
       "      <td>171.96</td>\n",
       "      <td>104.00</td>\n",
       "      <td>103.95</td>\n",
       "      <td>5.63</td>\n",
       "      <td>3.26</td>\n",
       "      <td>110.96</td>\n",
       "    </tr>\n",
       "  </tbody>\n",
       "</table>\n",
       "<p>170 rows × 7 columns</p>\n",
       "</div>"
      ],
      "text/plain": [
       "     is_genuine  diagonal  height_left  height_right  margin_low  margin_up  \\\n",
       "0          True    171.81       104.86        104.95        4.52       2.89   \n",
       "1          True    171.67       103.74        103.70        4.01       2.87   \n",
       "2          True    171.83       103.76        103.76        4.40       2.88   \n",
       "3          True    171.80       103.78        103.65        3.73       3.12   \n",
       "4          True    172.05       103.70        103.75        5.04       2.27   \n",
       "..          ...       ...          ...           ...         ...        ...   \n",
       "165       False    172.11       104.23        104.45        5.24       3.58   \n",
       "166       False    173.01       104.59        104.31        5.04       3.05   \n",
       "167       False    172.47       104.27        104.10        4.88       3.33   \n",
       "168       False    171.82       103.97        103.88        4.73       3.55   \n",
       "169       False    171.96       104.00        103.95        5.63       3.26   \n",
       "\n",
       "     length  \n",
       "0    112.83  \n",
       "1    113.29  \n",
       "2    113.84  \n",
       "3    113.63  \n",
       "4    113.55  \n",
       "..      ...  \n",
       "165  111.78  \n",
       "166  110.91  \n",
       "167  110.68  \n",
       "168  111.87  \n",
       "169  110.96  \n",
       "\n",
       "[170 rows x 7 columns]"
      ]
     },
     "execution_count": 18,
     "metadata": {},
     "output_type": "execute_result"
    }
   ],
   "source": [
    "df_notes"
   ]
  },
  {
   "cell_type": "code",
   "execution_count": null,
   "metadata": {
    "cell_id": "00034-349324aa-57eb-4bd9-b137-599a9004704f",
    "deepnote_cell_height": 918,
    "deepnote_cell_type": "code",
    "deepnote_output_heights": [
     610
    ],
    "deepnote_to_be_reexecuted": false,
    "execution_millis": 2839,
    "execution_start": 1664565536096,
    "source_hash": "a883f912"
   },
   "outputs": [
    {
     "data": {
      "image/png": "[encoded data removed]",
      "text/plain": [
       "<Figure size 1000x2500 with 1 Axes>"
      ]
     },
     "metadata": {
      "image/png": {
       "height": 2010,
       "width": 818
      }
     },
     "output_type": "display_data"
    }
   ],
   "source": [
    "# préparation des données pour le clustering\n",
    "X = df_notes.values\n",
    "names = df_notes.index\n",
    "\n",
    "# Centrage et Réduction\n",
    "std_scale = preprocessing.StandardScaler().fit(X)\n",
    "X_scaled = std_scale.transform(X)\n",
    "\n",
    "# Clustering hiérarchique\n",
    "Z = linkage(X_scaled, 'ward')\n",
    "\n",
    "# Affichage du dendrogramme\n",
    "plot_dendrogram(Z, names)"
   ]
  },
  {
   "cell_type": "markdown",
   "metadata": {
    "cell_id": "00035-3318f7b6-614d-41f8-a6cc-9344e47115d1",
    "deepnote_cell_height": 70,
    "deepnote_cell_type": "markdown"
   },
   "source": [
    "## K-means"
   ]
  },
  {
   "cell_type": "code",
   "execution_count": null,
   "metadata": {
    "cell_id": "00036-a2aa87c3-27fa-45de-a047-bc9bdff241f9",
    "deepnote_cell_height": 1001.796875,
    "deepnote_cell_type": "code",
    "deepnote_output_heights": [
     null,
     436
    ],
    "deepnote_to_be_reexecuted": false,
    "execution_millis": 906,
    "execution_start": 1664565538052,
    "source_hash": "c42bb137"
   },
   "outputs": [
    {
     "name": "stderr",
     "output_type": "stream",
     "text": [
      "/tmp/ipykernel_403/3363296230.py:20: DeprecationWarning: `np.float` is a deprecated alias for the builtin `float`. To silence this warning, use `float` by itself. Doing this will not modify any behavior and is safe. If you specifically wanted the numpy scalar type, use `np.float64` here.\n",
      "Deprecated in NumPy 1.20; for more details and guidance: https://numpy.org/devdocs/release/1.20.0-notes.html#deprecations\n",
      "  plt.scatter(X_projected[:, 0], X_projected[:, 1], c=clusters.astype(np.float), cmap = 'viridis', alpha=.5)\n"
     ]
    },
    {
     "data": {
      "image/png": "[encoded data removed]",
      "text/plain": [
       "<Figure size 640x480 with 1 Axes>"
      ]
     },
     "metadata": {
      "image/png": {
       "height": 435,
       "width": 559
      }
     },
     "output_type": "display_data"
    }
   ],
   "source": [
    "# Nombre de clusters souhaités\n",
    "n_clust = 6\n",
    "\n",
    "# préparation des données pour le clustering\n",
    "X = df_notes.values\n",
    "\n",
    "# Réduire n'est ici pas nécessaire car les variables sont exprimées dans la même unité\n",
    "# X_scaled = preprocessing.StandardScaler().fit_transform(X)\n",
    "\n",
    "# Clustering par K-means\n",
    "km = KMeans(n_clusters=n_clust)\n",
    "km.fit(X)\n",
    "\n",
    "# Récupération des clusters attribués à chaque individu\n",
    "clusters = km.labels_\n",
    "\n",
    "# Affichage du clustering par projection des individus sur le premier plan factoriel\n",
    "pca = decomposition.PCA(n_components=3).fit(X)\n",
    "X_projected = pca.transform(X)\n",
    "plt.scatter(X_projected[:, 0], X_projected[:, 1], c=clusters.astype(np.float), cmap = 'viridis', alpha=.5)\n",
    "plt.title(\"Projection des {} individus sur le 1e plan factoriel\".format(X_projected.shape[0]))\n",
    "plt.show(block=False)"
   ]
  },
  {
   "cell_type": "markdown",
   "metadata": {
    "cell_id": "d7498904cdc749a1b232c43ef3b15f8f",
    "deepnote_cell_type": "text-cell-h1",
    "formattedRanges": [],
    "is_collapsed": false,
    "tags": []
   },
   "source": [
    "# Mission 3"
   ]
  },
  {
   "cell_type": "markdown",
   "metadata": {
    "cell_id": "c02b3cf8eeef41d3a56aa9dd40bdfe73",
    "deepnote_cell_type": "text-cell-p",
    "formattedRanges": [],
    "is_collapsed": false,
    "tags": []
   },
   "source": [
    "Modélisez les données à l'aide d'une régression logistique. Grâce à celle-ci, vous créerez un programme capable d'effectuer une prédiction sur un billet, c'est-à-dire de déterminer s'il s'agit d'un vrai ou d'un faux billet. Pour chaque billet, votre algorithme de classification devra donner la probabilité que le billet soit vrai. Si cette probabilité est supérieure ou égale à 0.5, le billet sera considéré comme vrai. Dans le cas contraire, il sera considéré comme faux."
   ]
  },
  {
   "cell_type": "code",
   "execution_count": null,
   "metadata": {
    "cell_id": "00039-20d7b844-126a-4791-a9fb-8c30c7962919",
    "deepnote_cell_height": 608.59375,
    "deepnote_cell_type": "code",
    "deepnote_to_be_reexecuted": false,
    "execution_millis": 411,
    "execution_start": 1664565538553,
    "source_hash": "50f6fdf6"
   },
   "outputs": [
    {
     "data": {
      "application/vnd.deepnote.dataframe.v3+json": {
       "column_count": 7,
       "columns": [
        {
         "dtype": "bool",
         "name": "is_genuine",
         "stats": {
          "categories": [
           {
            "count": 100,
            "name": "True"
           },
           {
            "count": 70,
            "name": "False"
           }
          ],
          "nan_count": 0,
          "unique_count": 2
         }
        },
        {
         "dtype": "float64",
         "name": "diagonal",
         "stats": {
          "histogram": [
           {
            "bin_end": 171.237,
            "bin_start": 171.04,
            "count": 2
           },
           {
            "bin_end": 171.434,
            "bin_start": 171.237,
            "count": 5
           },
           {
            "bin_end": 171.631,
            "bin_start": 171.434,
            "count": 18
           },
           {
            "bin_end": 171.828,
            "bin_start": 171.631,
            "count": 39
           },
           {
            "bin_end": 172.02499999999998,
            "bin_start": 171.828,
            "count": 39
           },
           {
            "bin_end": 172.22199999999998,
            "bin_start": 172.02499999999998,
            "count": 43
           },
           {
            "bin_end": 172.41899999999998,
            "bin_start": 172.22199999999998,
            "count": 13
           },
           {
            "bin_end": 172.61599999999999,
            "bin_start": 172.41899999999998,
            "count": 9
           },
           {
            "bin_end": 172.813,
            "bin_start": 172.61599999999999,
            "count": 1
           },
           {
            "bin_end": 173.01,
            "bin_start": 172.813,
            "count": 1
           }
          ],
          "max": "173.01",
          "min": "171.04",
          "nan_count": 0,
          "unique_count": 88
         }
        },
        {
         "dtype": "float64",
         "name": "height_left",
         "stats": {
          "histogram": [
           {
            "bin_end": 103.393,
            "bin_start": 103.23,
            "count": 1
           },
           {
            "bin_end": 103.556,
            "bin_start": 103.393,
            "count": 6
           },
           {
            "bin_end": 103.71900000000001,
            "bin_start": 103.556,
            "count": 12
           },
           {
            "bin_end": 103.882,
            "bin_start": 103.71900000000001,
            "count": 30
           },
           {
            "bin_end": 104.045,
            "bin_start": 103.882,
            "count": 34
           },
           {
            "bin_end": 104.208,
            "bin_start": 104.045,
            "count": 29
           },
           {
            "bin_end": 104.371,
            "bin_start": 104.208,
            "count": 31
           },
           {
            "bin_end": 104.534,
            "bin_start": 104.371,
            "count": 17
           },
           {
            "bin_end": 104.697,
            "bin_start": 104.534,
            "count": 8
           },
           {
            "bin_end": 104.86,
            "bin_start": 104.697,
            "count": 2
           }
          ],
          "max": "104.86",
          "min": "103.23",
          "nan_count": 0,
          "unique_count": 91
         }
        },
        {
         "dtype": "float64",
         "name": "height_right",
         "stats": {
          "histogram": [
           {
            "bin_end": 103.321,
            "bin_start": 103.14,
            "count": 4
           },
           {
            "bin_end": 103.502,
            "bin_start": 103.321,
            "count": 16
           },
           {
            "bin_end": 103.683,
            "bin_start": 103.502,
            "count": 22
           },
           {
            "bin_end": 103.864,
            "bin_start": 103.683,
            "count": 29
           },
           {
            "bin_end": 104.045,
            "bin_start": 103.864,
            "count": 33
           },
           {
            "bin_end": 104.226,
            "bin_start": 104.045,
            "count": 35
           },
           {
            "bin_end": 104.407,
            "bin_start": 104.226,
            "count": 22
           },
           {
            "bin_end": 104.58800000000001,
            "bin_start": 104.407,
            "count": 5
           },
           {
            "bin_end": 104.769,
            "bin_start": 104.58800000000001,
            "count": 1
           },
           {
            "bin_end": 104.95,
            "bin_start": 104.769,
            "count": 3
           }
          ],
          "max": "104.95",
          "min": "103.14",
          "nan_count": 0,
          "unique_count": 96
         }
        },
        {
         "dtype": "float64",
         "name": "margin_low",
         "stats": {
          "histogram": [
           {
            "bin_end": 3.814,
            "bin_start": 3.54,
            "count": 19
           },
           {
            "bin_end": 4.088,
            "bin_start": 3.814,
            "count": 34
           },
           {
            "bin_end": 4.362,
            "bin_start": 4.088,
            "count": 26
           },
           {
            "bin_end": 4.636,
            "bin_start": 4.362,
            "count": 24
           },
           {
            "bin_end": 4.91,
            "bin_start": 4.636,
            "count": 11
           },
           {
            "bin_end": 5.184,
            "bin_start": 4.91,
            "count": 16
           },
           {
            "bin_end": 5.458,
            "bin_start": 5.184,
            "count": 11
           },
           {
            "bin_end": 5.732,
            "bin_start": 5.458,
            "count": 13
           },
           {
            "bin_end": 6.006,
            "bin_start": 5.732,
            "count": 11
           },
           {
            "bin_end": 6.28,
            "bin_start": 6.006,
            "count": 5
           }
          ],
          "max": "6.28",
          "min": "3.54",
          "nan_count": 0,
          "unique_count": 123
         }
        },
        {
         "dtype": "float64",
         "name": "margin_up",
         "stats": {
          "histogram": [
           {
            "bin_end": 2.411,
            "bin_start": 2.27,
            "count": 1
           },
           {
            "bin_end": 2.552,
            "bin_start": 2.411,
            "count": 0
           },
           {
            "bin_end": 2.693,
            "bin_start": 2.552,
            "count": 1
           },
           {
            "bin_end": 2.834,
            "bin_start": 2.693,
            "count": 9
           },
           {
            "bin_end": 2.975,
            "bin_start": 2.834,
            "count": 23
           },
           {
            "bin_end": 3.116,
            "bin_start": 2.975,
            "count": 36
           },
           {
            "bin_end": 3.257,
            "bin_start": 3.116,
            "count": 43
           },
           {
            "bin_end": 3.398,
            "bin_start": 3.257,
            "count": 28
           },
           {
            "bin_end": 3.539,
            "bin_start": 3.398,
            "count": 17
           },
           {
            "bin_end": 3.68,
            "bin_start": 3.539,
            "count": 12
           }
          ],
          "max": "3.68",
          "min": "2.27",
          "nan_count": 0,
          "unique_count": 81
         }
        },
        {
         "dtype": "float64",
         "name": "length",
         "stats": {
          "histogram": [
           {
            "bin_end": 110.371,
            "bin_start": 109.97,
            "count": 2
           },
           {
            "bin_end": 110.772,
            "bin_start": 110.371,
            "count": 7
           },
           {
            "bin_end": 111.173,
            "bin_start": 110.772,
            "count": 6
           },
           {
            "bin_end": 111.574,
            "bin_start": 111.173,
            "count": 15
           },
           {
            "bin_end": 111.975,
            "bin_start": 111.574,
            "count": 23
           },
           {
            "bin_end": 112.376,
            "bin_start": 111.975,
            "count": 11
           },
           {
            "bin_end": 112.777,
            "bin_start": 112.376,
            "count": 14
           },
           {
            "bin_end": 113.178,
            "bin_start": 112.777,
            "count": 37
           },
           {
            "bin_end": 113.57900000000001,
            "bin_start": 113.178,
            "count": 36
           },
           {
            "bin_end": 113.98,
            "bin_start": 113.57900000000001,
            "count": 19
           }
          ],
          "max": "113.98",
          "min": "109.97",
          "nan_count": 0,
          "unique_count": 129
         }
        },
        {
         "dtype": "int64",
         "name": "_deepnote_index_column"
        }
       ],
       "row_count": 170,
       "rows": [
        {
         "_deepnote_index_column": "0",
         "diagonal": "171.81",
         "height_left": "104.86",
         "height_right": "104.95",
         "is_genuine": "True",
         "length": "112.83",
         "margin_low": "4.52",
         "margin_up": "2.89"
        },
        {
         "_deepnote_index_column": "1",
         "diagonal": "171.67",
         "height_left": "103.74",
         "height_right": "103.7",
         "is_genuine": "True",
         "length": "113.29",
         "margin_low": "4.01",
         "margin_up": "2.87"
        },
        {
         "_deepnote_index_column": "2",
         "diagonal": "171.83",
         "height_left": "103.76",
         "height_right": "103.76",
         "is_genuine": "True",
         "length": "113.84",
         "margin_low": "4.4",
         "margin_up": "2.88"
        },
        {
         "_deepnote_index_column": "3",
         "diagonal": "171.8",
         "height_left": "103.78",
         "height_right": "103.65",
         "is_genuine": "True",
         "length": "113.63",
         "margin_low": "3.73",
         "margin_up": "3.12"
        },
        {
         "_deepnote_index_column": "4",
         "diagonal": "172.05",
         "height_left": "103.7",
         "height_right": "103.75",
         "is_genuine": "True",
         "length": "113.55",
         "margin_low": "5.04",
         "margin_up": "2.27"
        },
        {
         "_deepnote_index_column": "5",
         "diagonal": "172.57",
         "height_left": "104.65",
         "height_right": "104.44",
         "is_genuine": "True",
         "length": "113.16",
         "margin_low": "4.54",
         "margin_up": "2.99"
        },
        {
         "_deepnote_index_column": "6",
         "diagonal": "172.38",
         "height_left": "103.55",
         "height_right": "103.8",
         "is_genuine": "True",
         "length": "113.3",
         "margin_low": "3.97",
         "margin_up": "2.9"
        },
        {
         "_deepnote_index_column": "7",
         "diagonal": "171.58",
         "height_left": "103.65",
         "height_right": "103.37",
         "is_genuine": "True",
         "length": "113.38",
         "margin_low": "3.54",
         "margin_up": "3.19"
        },
        {
         "_deepnote_index_column": "8",
         "diagonal": "171.96",
         "height_left": "103.51",
         "height_right": "103.75",
         "is_genuine": "True",
         "length": "113.53",
         "margin_low": "4.06",
         "margin_up": "3.33"
        },
        {
         "_deepnote_index_column": "9",
         "diagonal": "172.14",
         "height_left": "104.34",
         "height_right": "104.2",
         "is_genuine": "True",
         "length": "112.47",
         "margin_low": "4.63",
         "margin_up": "3.02"
        }
       ]
      },
      "text/html": [
       "<div>\n",
       "<style scoped>\n",
       "    .dataframe tbody tr th:only-of-type {\n",
       "        vertical-align: middle;\n",
       "    }\n",
       "\n",
       "    .dataframe tbody tr th {\n",
       "        vertical-align: top;\n",
       "    }\n",
       "\n",
       "    .dataframe thead th {\n",
       "        text-align: right;\n",
       "    }\n",
       "</style>\n",
       "<table border=\"1\" class=\"dataframe\">\n",
       "  <thead>\n",
       "    <tr style=\"text-align: right;\">\n",
       "      <th></th>\n",
       "      <th>is_genuine</th>\n",
       "      <th>diagonal</th>\n",
       "      <th>height_left</th>\n",
       "      <th>height_right</th>\n",
       "      <th>margin_low</th>\n",
       "      <th>margin_up</th>\n",
       "      <th>length</th>\n",
       "    </tr>\n",
       "  </thead>\n",
       "  <tbody>\n",
       "    <tr>\n",
       "      <th>0</th>\n",
       "      <td>True</td>\n",
       "      <td>171.81</td>\n",
       "      <td>104.86</td>\n",
       "      <td>104.95</td>\n",
       "      <td>4.52</td>\n",
       "      <td>2.89</td>\n",
       "      <td>112.83</td>\n",
       "    </tr>\n",
       "    <tr>\n",
       "      <th>1</th>\n",
       "      <td>True</td>\n",
       "      <td>171.67</td>\n",
       "      <td>103.74</td>\n",
       "      <td>103.70</td>\n",
       "      <td>4.01</td>\n",
       "      <td>2.87</td>\n",
       "      <td>113.29</td>\n",
       "    </tr>\n",
       "    <tr>\n",
       "      <th>2</th>\n",
       "      <td>True</td>\n",
       "      <td>171.83</td>\n",
       "      <td>103.76</td>\n",
       "      <td>103.76</td>\n",
       "      <td>4.40</td>\n",
       "      <td>2.88</td>\n",
       "      <td>113.84</td>\n",
       "    </tr>\n",
       "    <tr>\n",
       "      <th>3</th>\n",
       "      <td>True</td>\n",
       "      <td>171.80</td>\n",
       "      <td>103.78</td>\n",
       "      <td>103.65</td>\n",
       "      <td>3.73</td>\n",
       "      <td>3.12</td>\n",
       "      <td>113.63</td>\n",
       "    </tr>\n",
       "    <tr>\n",
       "      <th>4</th>\n",
       "      <td>True</td>\n",
       "      <td>172.05</td>\n",
       "      <td>103.70</td>\n",
       "      <td>103.75</td>\n",
       "      <td>5.04</td>\n",
       "      <td>2.27</td>\n",
       "      <td>113.55</td>\n",
       "    </tr>\n",
       "    <tr>\n",
       "      <th>...</th>\n",
       "      <td>...</td>\n",
       "      <td>...</td>\n",
       "      <td>...</td>\n",
       "      <td>...</td>\n",
       "      <td>...</td>\n",
       "      <td>...</td>\n",
       "      <td>...</td>\n",
       "    </tr>\n",
       "    <tr>\n",
       "      <th>165</th>\n",
       "      <td>False</td>\n",
       "      <td>172.11</td>\n",
       "      <td>104.23</td>\n",
       "      <td>104.45</td>\n",
       "      <td>5.24</td>\n",
       "      <td>3.58</td>\n",
       "      <td>111.78</td>\n",
       "    </tr>\n",
       "    <tr>\n",
       "      <th>166</th>\n",
       "      <td>False</td>\n",
       "      <td>173.01</td>\n",
       "      <td>104.59</td>\n",
       "      <td>104.31</td>\n",
       "      <td>5.04</td>\n",
       "      <td>3.05</td>\n",
       "      <td>110.91</td>\n",
       "    </tr>\n",
       "    <tr>\n",
       "      <th>167</th>\n",
       "      <td>False</td>\n",
       "      <td>172.47</td>\n",
       "      <td>104.27</td>\n",
       "      <td>104.10</td>\n",
       "      <td>4.88</td>\n",
       "      <td>3.33</td>\n",
       "      <td>110.68</td>\n",
       "    </tr>\n",
       "    <tr>\n",
       "      <th>168</th>\n",
       "      <td>False</td>\n",
       "      <td>171.82</td>\n",
       "      <td>103.97</td>\n",
       "      <td>103.88</td>\n",
       "      <td>4.73</td>\n",
       "      <td>3.55</td>\n",
       "      <td>111.87</td>\n",
       "    </tr>\n",
       "    <tr>\n",
       "      <th>169</th>\n",
       "      <td>False</td>\n",
       "      <td>171.96</td>\n",
       "      <td>104.00</td>\n",
       "      <td>103.95</td>\n",
       "      <td>5.63</td>\n",
       "      <td>3.26</td>\n",
       "      <td>110.96</td>\n",
       "    </tr>\n",
       "  </tbody>\n",
       "</table>\n",
       "<p>170 rows × 7 columns</p>\n",
       "</div>"
      ],
      "text/plain": [
       "     is_genuine  diagonal  height_left  height_right  margin_low  margin_up  \\\n",
       "0          True    171.81       104.86        104.95        4.52       2.89   \n",
       "1          True    171.67       103.74        103.70        4.01       2.87   \n",
       "2          True    171.83       103.76        103.76        4.40       2.88   \n",
       "3          True    171.80       103.78        103.65        3.73       3.12   \n",
       "4          True    172.05       103.70        103.75        5.04       2.27   \n",
       "..          ...       ...          ...           ...         ...        ...   \n",
       "165       False    172.11       104.23        104.45        5.24       3.58   \n",
       "166       False    173.01       104.59        104.31        5.04       3.05   \n",
       "167       False    172.47       104.27        104.10        4.88       3.33   \n",
       "168       False    171.82       103.97        103.88        4.73       3.55   \n",
       "169       False    171.96       104.00        103.95        5.63       3.26   \n",
       "\n",
       "     length  \n",
       "0    112.83  \n",
       "1    113.29  \n",
       "2    113.84  \n",
       "3    113.63  \n",
       "4    113.55  \n",
       "..      ...  \n",
       "165  111.78  \n",
       "166  110.91  \n",
       "167  110.68  \n",
       "168  111.87  \n",
       "169  110.96  \n",
       "\n",
       "[170 rows x 7 columns]"
      ]
     },
     "execution_count": 21,
     "metadata": {},
     "output_type": "execute_result"
    }
   ],
   "source": [
    "df_notes"
   ]
  },
  {
   "cell_type": "code",
   "execution_count": null,
   "metadata": {
    "cell_id": "00040-181cdf33-6bc2-4c4d-8553-75878e07ce3a",
    "deepnote_cell_height": 570,
    "deepnote_cell_type": "code",
    "deepnote_output_heights": [
     442
    ],
    "deepnote_to_be_reexecuted": false,
    "execution_millis": 407,
    "execution_start": 1664565538612,
    "source_hash": "39a82ae9"
   },
   "outputs": [
    {
     "data": {
      "image/png": "[encoded data removed]",
      "text/plain": [
       "<Figure size 640x480 with 1 Axes>"
      ]
     },
     "metadata": {
      "image/png": {
       "height": 441,
       "width": 597
      }
     },
     "output_type": "display_data"
    }
   ],
   "source": [
    "sns.set()\n",
    "\n",
    "ax = sns.scatterplot(x=\"diagonal\", y=\"length\", data=df_notes)"
   ]
  },
  {
   "cell_type": "markdown",
   "metadata": {
    "cell_id": "2f9548c4886b4d73afdcc3681f028f18",
    "deepnote_cell_type": "text-cell-h2",
    "formattedRanges": [],
    "is_collapsed": false,
    "tags": []
   },
   "source": [
    "## Effectuer la régression logistique"
   ]
  },
  {
   "cell_type": "code",
   "execution_count": null,
   "metadata": {
    "cell_id": "5b007d4d8b8d46c5b41174d05ba676df",
    "deepnote_cell_height": 608.59375,
    "deepnote_cell_type": "code",
    "deepnote_to_be_reexecuted": false,
    "execution_millis": 67,
    "execution_start": 1664565538999,
    "source_hash": "50f6fdf6",
    "tags": []
   },
   "outputs": [
    {
     "data": {
      "application/vnd.deepnote.dataframe.v3+json": {
       "column_count": 7,
       "columns": [
        {
         "dtype": "bool",
         "name": "is_genuine",
         "stats": {
          "categories": [
           {
            "count": 100,
            "name": "True"
           },
           {
            "count": 70,
            "name": "False"
           }
          ],
          "nan_count": 0,
          "unique_count": 2
         }
        },
        {
         "dtype": "float64",
         "name": "diagonal",
         "stats": {
          "histogram": [
           {
            "bin_end": 171.237,
            "bin_start": 171.04,
            "count": 2
           },
           {
            "bin_end": 171.434,
            "bin_start": 171.237,
            "count": 5
           },
           {
            "bin_end": 171.631,
            "bin_start": 171.434,
            "count": 18
           },
           {
            "bin_end": 171.828,
            "bin_start": 171.631,
            "count": 39
           },
           {
            "bin_end": 172.02499999999998,
            "bin_start": 171.828,
            "count": 39
           },
           {
            "bin_end": 172.22199999999998,
            "bin_start": 172.02499999999998,
            "count": 43
           },
           {
            "bin_end": 172.41899999999998,
            "bin_start": 172.22199999999998,
            "count": 13
           },
           {
            "bin_end": 172.61599999999999,
            "bin_start": 172.41899999999998,
            "count": 9
           },
           {
            "bin_end": 172.813,
            "bin_start": 172.61599999999999,
            "count": 1
           },
           {
            "bin_end": 173.01,
            "bin_start": 172.813,
            "count": 1
           }
          ],
          "max": "173.01",
          "min": "171.04",
          "nan_count": 0,
          "unique_count": 88
         }
        },
        {
         "dtype": "float64",
         "name": "height_left",
         "stats": {
          "histogram": [
           {
            "bin_end": 103.393,
            "bin_start": 103.23,
            "count": 1
           },
           {
            "bin_end": 103.556,
            "bin_start": 103.393,
            "count": 6
           },
           {
            "bin_end": 103.71900000000001,
            "bin_start": 103.556,
            "count": 12
           },
           {
            "bin_end": 103.882,
            "bin_start": 103.71900000000001,
            "count": 30
           },
           {
            "bin_end": 104.045,
            "bin_start": 103.882,
            "count": 34
           },
           {
            "bin_end": 104.208,
            "bin_start": 104.045,
            "count": 29
           },
           {
            "bin_end": 104.371,
            "bin_start": 104.208,
            "count": 31
           },
           {
            "bin_end": 104.534,
            "bin_start": 104.371,
            "count": 17
           },
           {
            "bin_end": 104.697,
            "bin_start": 104.534,
            "count": 8
           },
           {
            "bin_end": 104.86,
            "bin_start": 104.697,
            "count": 2
           }
          ],
          "max": "104.86",
          "min": "103.23",
          "nan_count": 0,
          "unique_count": 91
         }
        },
        {
         "dtype": "float64",
         "name": "height_right",
         "stats": {
          "histogram": [
           {
            "bin_end": 103.321,
            "bin_start": 103.14,
            "count": 4
           },
           {
            "bin_end": 103.502,
            "bin_start": 103.321,
            "count": 16
           },
           {
            "bin_end": 103.683,
            "bin_start": 103.502,
            "count": 22
           },
           {
            "bin_end": 103.864,
            "bin_start": 103.683,
            "count": 29
           },
           {
            "bin_end": 104.045,
            "bin_start": 103.864,
            "count": 33
           },
           {
            "bin_end": 104.226,
            "bin_start": 104.045,
            "count": 35
           },
           {
            "bin_end": 104.407,
            "bin_start": 104.226,
            "count": 22
           },
           {
            "bin_end": 104.58800000000001,
            "bin_start": 104.407,
            "count": 5
           },
           {
            "bin_end": 104.769,
            "bin_start": 104.58800000000001,
            "count": 1
           },
           {
            "bin_end": 104.95,
            "bin_start": 104.769,
            "count": 3
           }
          ],
          "max": "104.95",
          "min": "103.14",
          "nan_count": 0,
          "unique_count": 96
         }
        },
        {
         "dtype": "float64",
         "name": "margin_low",
         "stats": {
          "histogram": [
           {
            "bin_end": 3.814,
            "bin_start": 3.54,
            "count": 19
           },
           {
            "bin_end": 4.088,
            "bin_start": 3.814,
            "count": 34
           },
           {
            "bin_end": 4.362,
            "bin_start": 4.088,
            "count": 26
           },
           {
            "bin_end": 4.636,
            "bin_start": 4.362,
            "count": 24
           },
           {
            "bin_end": 4.91,
            "bin_start": 4.636,
            "count": 11
           },
           {
            "bin_end": 5.184,
            "bin_start": 4.91,
            "count": 16
           },
           {
            "bin_end": 5.458,
            "bin_start": 5.184,
            "count": 11
           },
           {
            "bin_end": 5.732,
            "bin_start": 5.458,
            "count": 13
           },
           {
            "bin_end": 6.006,
            "bin_start": 5.732,
            "count": 11
           },
           {
            "bin_end": 6.28,
            "bin_start": 6.006,
            "count": 5
           }
          ],
          "max": "6.28",
          "min": "3.54",
          "nan_count": 0,
          "unique_count": 123
         }
        },
        {
         "dtype": "float64",
         "name": "margin_up",
         "stats": {
          "histogram": [
           {
            "bin_end": 2.411,
            "bin_start": 2.27,
            "count": 1
           },
           {
            "bin_end": 2.552,
            "bin_start": 2.411,
            "count": 0
           },
           {
            "bin_end": 2.693,
            "bin_start": 2.552,
            "count": 1
           },
           {
            "bin_end": 2.834,
            "bin_start": 2.693,
            "count": 9
           },
           {
            "bin_end": 2.975,
            "bin_start": 2.834,
            "count": 23
           },
           {
            "bin_end": 3.116,
            "bin_start": 2.975,
            "count": 36
           },
           {
            "bin_end": 3.257,
            "bin_start": 3.116,
            "count": 43
           },
           {
            "bin_end": 3.398,
            "bin_start": 3.257,
            "count": 28
           },
           {
            "bin_end": 3.539,
            "bin_start": 3.398,
            "count": 17
           },
           {
            "bin_end": 3.68,
            "bin_start": 3.539,
            "count": 12
           }
          ],
          "max": "3.68",
          "min": "2.27",
          "nan_count": 0,
          "unique_count": 81
         }
        },
        {
         "dtype": "float64",
         "name": "length",
         "stats": {
          "histogram": [
           {
            "bin_end": 110.371,
            "bin_start": 109.97,
            "count": 2
           },
           {
            "bin_end": 110.772,
            "bin_start": 110.371,
            "count": 7
           },
           {
            "bin_end": 111.173,
            "bin_start": 110.772,
            "count": 6
           },
           {
            "bin_end": 111.574,
            "bin_start": 111.173,
            "count": 15
           },
           {
            "bin_end": 111.975,
            "bin_start": 111.574,
            "count": 23
           },
           {
            "bin_end": 112.376,
            "bin_start": 111.975,
            "count": 11
           },
           {
            "bin_end": 112.777,
            "bin_start": 112.376,
            "count": 14
           },
           {
            "bin_end": 113.178,
            "bin_start": 112.777,
            "count": 37
           },
           {
            "bin_end": 113.57900000000001,
            "bin_start": 113.178,
            "count": 36
           },
           {
            "bin_end": 113.98,
            "bin_start": 113.57900000000001,
            "count": 19
           }
          ],
          "max": "113.98",
          "min": "109.97",
          "nan_count": 0,
          "unique_count": 129
         }
        },
        {
         "dtype": "int64",
         "name": "_deepnote_index_column"
        }
       ],
       "row_count": 170,
       "rows": [
        {
         "_deepnote_index_column": "0",
         "diagonal": "171.81",
         "height_left": "104.86",
         "height_right": "104.95",
         "is_genuine": "True",
         "length": "112.83",
         "margin_low": "4.52",
         "margin_up": "2.89"
        },
        {
         "_deepnote_index_column": "1",
         "diagonal": "171.67",
         "height_left": "103.74",
         "height_right": "103.7",
         "is_genuine": "True",
         "length": "113.29",
         "margin_low": "4.01",
         "margin_up": "2.87"
        },
        {
         "_deepnote_index_column": "2",
         "diagonal": "171.83",
         "height_left": "103.76",
         "height_right": "103.76",
         "is_genuine": "True",
         "length": "113.84",
         "margin_low": "4.4",
         "margin_up": "2.88"
        },
        {
         "_deepnote_index_column": "3",
         "diagonal": "171.8",
         "height_left": "103.78",
         "height_right": "103.65",
         "is_genuine": "True",
         "length": "113.63",
         "margin_low": "3.73",
         "margin_up": "3.12"
        },
        {
         "_deepnote_index_column": "4",
         "diagonal": "172.05",
         "height_left": "103.7",
         "height_right": "103.75",
         "is_genuine": "True",
         "length": "113.55",
         "margin_low": "5.04",
         "margin_up": "2.27"
        },
        {
         "_deepnote_index_column": "5",
         "diagonal": "172.57",
         "height_left": "104.65",
         "height_right": "104.44",
         "is_genuine": "True",
         "length": "113.16",
         "margin_low": "4.54",
         "margin_up": "2.99"
        },
        {
         "_deepnote_index_column": "6",
         "diagonal": "172.38",
         "height_left": "103.55",
         "height_right": "103.8",
         "is_genuine": "True",
         "length": "113.3",
         "margin_low": "3.97",
         "margin_up": "2.9"
        },
        {
         "_deepnote_index_column": "7",
         "diagonal": "171.58",
         "height_left": "103.65",
         "height_right": "103.37",
         "is_genuine": "True",
         "length": "113.38",
         "margin_low": "3.54",
         "margin_up": "3.19"
        },
        {
         "_deepnote_index_column": "8",
         "diagonal": "171.96",
         "height_left": "103.51",
         "height_right": "103.75",
         "is_genuine": "True",
         "length": "113.53",
         "margin_low": "4.06",
         "margin_up": "3.33"
        },
        {
         "_deepnote_index_column": "9",
         "diagonal": "172.14",
         "height_left": "104.34",
         "height_right": "104.2",
         "is_genuine": "True",
         "length": "112.47",
         "margin_low": "4.63",
         "margin_up": "3.02"
        }
       ]
      },
      "text/html": [
       "<div>\n",
       "<style scoped>\n",
       "    .dataframe tbody tr th:only-of-type {\n",
       "        vertical-align: middle;\n",
       "    }\n",
       "\n",
       "    .dataframe tbody tr th {\n",
       "        vertical-align: top;\n",
       "    }\n",
       "\n",
       "    .dataframe thead th {\n",
       "        text-align: right;\n",
       "    }\n",
       "</style>\n",
       "<table border=\"1\" class=\"dataframe\">\n",
       "  <thead>\n",
       "    <tr style=\"text-align: right;\">\n",
       "      <th></th>\n",
       "      <th>is_genuine</th>\n",
       "      <th>diagonal</th>\n",
       "      <th>height_left</th>\n",
       "      <th>height_right</th>\n",
       "      <th>margin_low</th>\n",
       "      <th>margin_up</th>\n",
       "      <th>length</th>\n",
       "    </tr>\n",
       "  </thead>\n",
       "  <tbody>\n",
       "    <tr>\n",
       "      <th>0</th>\n",
       "      <td>True</td>\n",
       "      <td>171.81</td>\n",
       "      <td>104.86</td>\n",
       "      <td>104.95</td>\n",
       "      <td>4.52</td>\n",
       "      <td>2.89</td>\n",
       "      <td>112.83</td>\n",
       "    </tr>\n",
       "    <tr>\n",
       "      <th>1</th>\n",
       "      <td>True</td>\n",
       "      <td>171.67</td>\n",
       "      <td>103.74</td>\n",
       "      <td>103.70</td>\n",
       "      <td>4.01</td>\n",
       "      <td>2.87</td>\n",
       "      <td>113.29</td>\n",
       "    </tr>\n",
       "    <tr>\n",
       "      <th>2</th>\n",
       "      <td>True</td>\n",
       "      <td>171.83</td>\n",
       "      <td>103.76</td>\n",
       "      <td>103.76</td>\n",
       "      <td>4.40</td>\n",
       "      <td>2.88</td>\n",
       "      <td>113.84</td>\n",
       "    </tr>\n",
       "    <tr>\n",
       "      <th>3</th>\n",
       "      <td>True</td>\n",
       "      <td>171.80</td>\n",
       "      <td>103.78</td>\n",
       "      <td>103.65</td>\n",
       "      <td>3.73</td>\n",
       "      <td>3.12</td>\n",
       "      <td>113.63</td>\n",
       "    </tr>\n",
       "    <tr>\n",
       "      <th>4</th>\n",
       "      <td>True</td>\n",
       "      <td>172.05</td>\n",
       "      <td>103.70</td>\n",
       "      <td>103.75</td>\n",
       "      <td>5.04</td>\n",
       "      <td>2.27</td>\n",
       "      <td>113.55</td>\n",
       "    </tr>\n",
       "    <tr>\n",
       "      <th>...</th>\n",
       "      <td>...</td>\n",
       "      <td>...</td>\n",
       "      <td>...</td>\n",
       "      <td>...</td>\n",
       "      <td>...</td>\n",
       "      <td>...</td>\n",
       "      <td>...</td>\n",
       "    </tr>\n",
       "    <tr>\n",
       "      <th>165</th>\n",
       "      <td>False</td>\n",
       "      <td>172.11</td>\n",
       "      <td>104.23</td>\n",
       "      <td>104.45</td>\n",
       "      <td>5.24</td>\n",
       "      <td>3.58</td>\n",
       "      <td>111.78</td>\n",
       "    </tr>\n",
       "    <tr>\n",
       "      <th>166</th>\n",
       "      <td>False</td>\n",
       "      <td>173.01</td>\n",
       "      <td>104.59</td>\n",
       "      <td>104.31</td>\n",
       "      <td>5.04</td>\n",
       "      <td>3.05</td>\n",
       "      <td>110.91</td>\n",
       "    </tr>\n",
       "    <tr>\n",
       "      <th>167</th>\n",
       "      <td>False</td>\n",
       "      <td>172.47</td>\n",
       "      <td>104.27</td>\n",
       "      <td>104.10</td>\n",
       "      <td>4.88</td>\n",
       "      <td>3.33</td>\n",
       "      <td>110.68</td>\n",
       "    </tr>\n",
       "    <tr>\n",
       "      <th>168</th>\n",
       "      <td>False</td>\n",
       "      <td>171.82</td>\n",
       "      <td>103.97</td>\n",
       "      <td>103.88</td>\n",
       "      <td>4.73</td>\n",
       "      <td>3.55</td>\n",
       "      <td>111.87</td>\n",
       "    </tr>\n",
       "    <tr>\n",
       "      <th>169</th>\n",
       "      <td>False</td>\n",
       "      <td>171.96</td>\n",
       "      <td>104.00</td>\n",
       "      <td>103.95</td>\n",
       "      <td>5.63</td>\n",
       "      <td>3.26</td>\n",
       "      <td>110.96</td>\n",
       "    </tr>\n",
       "  </tbody>\n",
       "</table>\n",
       "<p>170 rows × 7 columns</p>\n",
       "</div>"
      ],
      "text/plain": [
       "     is_genuine  diagonal  height_left  height_right  margin_low  margin_up  \\\n",
       "0          True    171.81       104.86        104.95        4.52       2.89   \n",
       "1          True    171.67       103.74        103.70        4.01       2.87   \n",
       "2          True    171.83       103.76        103.76        4.40       2.88   \n",
       "3          True    171.80       103.78        103.65        3.73       3.12   \n",
       "4          True    172.05       103.70        103.75        5.04       2.27   \n",
       "..          ...       ...          ...           ...         ...        ...   \n",
       "165       False    172.11       104.23        104.45        5.24       3.58   \n",
       "166       False    173.01       104.59        104.31        5.04       3.05   \n",
       "167       False    172.47       104.27        104.10        4.88       3.33   \n",
       "168       False    171.82       103.97        103.88        4.73       3.55   \n",
       "169       False    171.96       104.00        103.95        5.63       3.26   \n",
       "\n",
       "     length  \n",
       "0    112.83  \n",
       "1    113.29  \n",
       "2    113.84  \n",
       "3    113.63  \n",
       "4    113.55  \n",
       "..      ...  \n",
       "165  111.78  \n",
       "166  110.91  \n",
       "167  110.68  \n",
       "168  111.87  \n",
       "169  110.96  \n",
       "\n",
       "[170 rows x 7 columns]"
      ]
     },
     "execution_count": 23,
     "metadata": {},
     "output_type": "execute_result"
    }
   ],
   "source": [
    "df_notes"
   ]
  },
  {
   "cell_type": "markdown",
   "metadata": {
    "cell_id": "cee1d5e23eaa45d1ad65ef57d4b9a3fc",
    "deepnote_cell_type": "text-cell-h3",
    "formattedRanges": [],
    "is_collapsed": false,
    "tags": []
   },
   "source": [
    "### Test Train Split"
   ]
  },
  {
   "cell_type": "code",
   "execution_count": null,
   "metadata": {
    "cell_id": "5ffd953cd0f3473d87345b55e661a241",
    "deepnote_cell_height": 76,
    "deepnote_cell_type": "code",
    "deepnote_to_be_reexecuted": false,
    "execution_millis": 0,
    "execution_start": 1664565539049,
    "source_hash": "907aedf9",
    "tags": []
   },
   "outputs": [],
   "source": [
    "df_notes = pd.read_csv('notes.csv')"
   ]
  },
  {
   "cell_type": "code",
   "execution_count": null,
   "metadata": {
    "cell_id": "eb52b50522d946a2b25769d6cb95d59d",
    "deepnote_cell_height": 225,
    "deepnote_cell_type": "code",
    "deepnote_to_be_reexecuted": false,
    "execution_millis": 1,
    "execution_start": 1664565539049,
    "source_hash": "e91b95a8",
    "tags": []
   },
   "outputs": [],
   "source": [
    "# Centrer et réduire, et supprimer les lignes des nan \n",
    "# Il y a beaucoup plus de vrai billet que de faux, du coup \n",
    "\n",
    "# OPTION : ça un \"imbalanced data set\", il faut régler le problème  : over sampling with SMOTE\n",
    "\n",
    "#  RL suppose l'abence d'outlier, donc si il y a, les enlever\n",
    "# il faut tester la multicollineraty, RL suppose qu'il n'y pas de multi\n",
    "# les variables explicatives doivent être corrélé de manière linéaire au log(y) --> heatmap des corrélations\n"
   ]
  },
  {
   "cell_type": "code",
   "execution_count": null,
   "metadata": {
    "cell_id": "0d09006d754a433fae49a37f423d7470",
    "deepnote_cell_height": 403.59375,
    "deepnote_cell_type": "code",
    "deepnote_to_be_reexecuted": false,
    "execution_millis": 57,
    "execution_start": 1664565539070,
    "source_hash": "20dc6884",
    "tags": []
   },
   "outputs": [
    {
     "data": {
      "application/vnd.deepnote.dataframe.v3+json": {
       "column_count": 7,
       "columns": [
        {
         "dtype": "bool",
         "name": "is_genuine",
         "stats": {
          "categories": [
           {
            "count": 5,
            "name": "True"
           }
          ],
          "nan_count": 0,
          "unique_count": 1
         }
        },
        {
         "dtype": "float64",
         "name": "diagonal",
         "stats": {
          "histogram": [
           {
            "bin_end": 171.708,
            "bin_start": 171.67,
            "count": 1
           },
           {
            "bin_end": 171.74599999999998,
            "bin_start": 171.708,
            "count": 0
           },
           {
            "bin_end": 171.784,
            "bin_start": 171.74599999999998,
            "count": 0
           },
           {
            "bin_end": 171.822,
            "bin_start": 171.784,
            "count": 2
           },
           {
            "bin_end": 171.86,
            "bin_start": 171.822,
            "count": 1
           },
           {
            "bin_end": 171.898,
            "bin_start": 171.86,
            "count": 0
           },
           {
            "bin_end": 171.936,
            "bin_start": 171.898,
            "count": 0
           },
           {
            "bin_end": 171.97400000000002,
            "bin_start": 171.936,
            "count": 0
           },
           {
            "bin_end": 172.012,
            "bin_start": 171.97400000000002,
            "count": 0
           },
           {
            "bin_end": 172.05,
            "bin_start": 172.012,
            "count": 1
           }
          ],
          "max": "172.05",
          "min": "171.67",
          "nan_count": 0,
          "unique_count": 5
         }
        },
        {
         "dtype": "float64",
         "name": "height_left",
         "stats": {
          "histogram": [
           {
            "bin_end": 103.816,
            "bin_start": 103.7,
            "count": 4
           },
           {
            "bin_end": 103.932,
            "bin_start": 103.816,
            "count": 0
           },
           {
            "bin_end": 104.048,
            "bin_start": 103.932,
            "count": 0
           },
           {
            "bin_end": 104.164,
            "bin_start": 104.048,
            "count": 0
           },
           {
            "bin_end": 104.28,
            "bin_start": 104.164,
            "count": 0
           },
           {
            "bin_end": 104.396,
            "bin_start": 104.28,
            "count": 0
           },
           {
            "bin_end": 104.512,
            "bin_start": 104.396,
            "count": 0
           },
           {
            "bin_end": 104.628,
            "bin_start": 104.512,
            "count": 0
           },
           {
            "bin_end": 104.744,
            "bin_start": 104.628,
            "count": 0
           },
           {
            "bin_end": 104.86,
            "bin_start": 104.744,
            "count": 1
           }
          ],
          "max": "104.86",
          "min": "103.7",
          "nan_count": 0,
          "unique_count": 5
         }
        },
        {
         "dtype": "float64",
         "name": "height_right",
         "stats": {
          "histogram": [
           {
            "bin_end": 103.78,
            "bin_start": 103.65,
            "count": 4
           },
           {
            "bin_end": 103.91000000000001,
            "bin_start": 103.78,
            "count": 0
           },
           {
            "bin_end": 104.04,
            "bin_start": 103.91000000000001,
            "count": 0
           },
           {
            "bin_end": 104.17,
            "bin_start": 104.04,
            "count": 0
           },
           {
            "bin_end": 104.30000000000001,
            "bin_start": 104.17,
            "count": 0
           },
           {
            "bin_end": 104.43,
            "bin_start": 104.30000000000001,
            "count": 0
           },
           {
            "bin_end": 104.56,
            "bin_start": 104.43,
            "count": 0
           },
           {
            "bin_end": 104.69,
            "bin_start": 104.56,
            "count": 0
           },
           {
            "bin_end": 104.82000000000001,
            "bin_start": 104.69,
            "count": 0
           },
           {
            "bin_end": 104.95,
            "bin_start": 104.82000000000001,
            "count": 1
           }
          ],
          "max": "104.95",
          "min": "103.65",
          "nan_count": 0,
          "unique_count": 5
         }
        },
        {
         "dtype": "float64",
         "name": "margin_low",
         "stats": {
          "histogram": [
           {
            "bin_end": 3.8609999999999998,
            "bin_start": 3.73,
            "count": 1
           },
           {
            "bin_end": 3.992,
            "bin_start": 3.8609999999999998,
            "count": 0
           },
           {
            "bin_end": 4.123,
            "bin_start": 3.992,
            "count": 1
           },
           {
            "bin_end": 4.254,
            "bin_start": 4.123,
            "count": 0
           },
           {
            "bin_end": 4.385,
            "bin_start": 4.254,
            "count": 0
           },
           {
            "bin_end": 4.516,
            "bin_start": 4.385,
            "count": 1
           },
           {
            "bin_end": 4.647,
            "bin_start": 4.516,
            "count": 1
           },
           {
            "bin_end": 4.7780000000000005,
            "bin_start": 4.647,
            "count": 0
           },
           {
            "bin_end": 4.909,
            "bin_start": 4.7780000000000005,
            "count": 0
           },
           {
            "bin_end": 5.04,
            "bin_start": 4.909,
            "count": 1
           }
          ],
          "max": "5.04",
          "min": "3.73",
          "nan_count": 0,
          "unique_count": 5
         }
        },
        {
         "dtype": "float64",
         "name": "margin_up",
         "stats": {
          "histogram": [
           {
            "bin_end": 2.355,
            "bin_start": 2.27,
            "count": 1
           },
           {
            "bin_end": 2.44,
            "bin_start": 2.355,
            "count": 0
           },
           {
            "bin_end": 2.525,
            "bin_start": 2.44,
            "count": 0
           },
           {
            "bin_end": 2.61,
            "bin_start": 2.525,
            "count": 0
           },
           {
            "bin_end": 2.6950000000000003,
            "bin_start": 2.61,
            "count": 0
           },
           {
            "bin_end": 2.7800000000000002,
            "bin_start": 2.6950000000000003,
            "count": 0
           },
           {
            "bin_end": 2.865,
            "bin_start": 2.7800000000000002,
            "count": 0
           },
           {
            "bin_end": 2.95,
            "bin_start": 2.865,
            "count": 3
           },
           {
            "bin_end": 3.035,
            "bin_start": 2.95,
            "count": 0
           },
           {
            "bin_end": 3.12,
            "bin_start": 3.035,
            "count": 1
           }
          ],
          "max": "3.12",
          "min": "2.27",
          "nan_count": 0,
          "unique_count": 5
         }
        },
        {
         "dtype": "float64",
         "name": "length",
         "stats": {
          "histogram": [
           {
            "bin_end": 112.931,
            "bin_start": 112.83,
            "count": 1
           },
           {
            "bin_end": 113.032,
            "bin_start": 112.931,
            "count": 0
           },
           {
            "bin_end": 113.133,
            "bin_start": 113.032,
            "count": 0
           },
           {
            "bin_end": 113.234,
            "bin_start": 113.133,
            "count": 0
           },
           {
            "bin_end": 113.33500000000001,
            "bin_start": 113.234,
            "count": 1
           },
           {
            "bin_end": 113.436,
            "bin_start": 113.33500000000001,
            "count": 0
           },
           {
            "bin_end": 113.537,
            "bin_start": 113.436,
            "count": 0
           },
           {
            "bin_end": 113.638,
            "bin_start": 113.537,
            "count": 2
           },
           {
            "bin_end": 113.739,
            "bin_start": 113.638,
            "count": 0
           },
           {
            "bin_end": 113.84,
            "bin_start": 113.739,
            "count": 1
           }
          ],
          "max": "113.84",
          "min": "112.83",
          "nan_count": 0,
          "unique_count": 5
         }
        },
        {
         "dtype": "int64",
         "name": "_deepnote_index_column"
        }
       ],
       "row_count": 5,
       "rows": [
        {
         "_deepnote_index_column": "0",
         "diagonal": "171.81",
         "height_left": "104.86",
         "height_right": "104.95",
         "is_genuine": "True",
         "length": "112.83",
         "margin_low": "4.52",
         "margin_up": "2.89"
        },
        {
         "_deepnote_index_column": "1",
         "diagonal": "171.67",
         "height_left": "103.74",
         "height_right": "103.7",
         "is_genuine": "True",
         "length": "113.29",
         "margin_low": "4.01",
         "margin_up": "2.87"
        },
        {
         "_deepnote_index_column": "2",
         "diagonal": "171.83",
         "height_left": "103.76",
         "height_right": "103.76",
         "is_genuine": "True",
         "length": "113.84",
         "margin_low": "4.4",
         "margin_up": "2.88"
        },
        {
         "_deepnote_index_column": "3",
         "diagonal": "171.8",
         "height_left": "103.78",
         "height_right": "103.65",
         "is_genuine": "True",
         "length": "113.63",
         "margin_low": "3.73",
         "margin_up": "3.12"
        },
        {
         "_deepnote_index_column": "4",
         "diagonal": "172.05",
         "height_left": "103.7",
         "height_right": "103.75",
         "is_genuine": "True",
         "length": "113.55",
         "margin_low": "5.04",
         "margin_up": "2.27"
        }
       ]
      },
      "text/html": [
       "<div>\n",
       "<style scoped>\n",
       "    .dataframe tbody tr th:only-of-type {\n",
       "        vertical-align: middle;\n",
       "    }\n",
       "\n",
       "    .dataframe tbody tr th {\n",
       "        vertical-align: top;\n",
       "    }\n",
       "\n",
       "    .dataframe thead th {\n",
       "        text-align: right;\n",
       "    }\n",
       "</style>\n",
       "<table border=\"1\" class=\"dataframe\">\n",
       "  <thead>\n",
       "    <tr style=\"text-align: right;\">\n",
       "      <th></th>\n",
       "      <th>is_genuine</th>\n",
       "      <th>diagonal</th>\n",
       "      <th>height_left</th>\n",
       "      <th>height_right</th>\n",
       "      <th>margin_low</th>\n",
       "      <th>margin_up</th>\n",
       "      <th>length</th>\n",
       "    </tr>\n",
       "  </thead>\n",
       "  <tbody>\n",
       "    <tr>\n",
       "      <th>0</th>\n",
       "      <td>True</td>\n",
       "      <td>171.81</td>\n",
       "      <td>104.86</td>\n",
       "      <td>104.95</td>\n",
       "      <td>4.52</td>\n",
       "      <td>2.89</td>\n",
       "      <td>112.83</td>\n",
       "    </tr>\n",
       "    <tr>\n",
       "      <th>1</th>\n",
       "      <td>True</td>\n",
       "      <td>171.67</td>\n",
       "      <td>103.74</td>\n",
       "      <td>103.70</td>\n",
       "      <td>4.01</td>\n",
       "      <td>2.87</td>\n",
       "      <td>113.29</td>\n",
       "    </tr>\n",
       "    <tr>\n",
       "      <th>2</th>\n",
       "      <td>True</td>\n",
       "      <td>171.83</td>\n",
       "      <td>103.76</td>\n",
       "      <td>103.76</td>\n",
       "      <td>4.40</td>\n",
       "      <td>2.88</td>\n",
       "      <td>113.84</td>\n",
       "    </tr>\n",
       "    <tr>\n",
       "      <th>3</th>\n",
       "      <td>True</td>\n",
       "      <td>171.80</td>\n",
       "      <td>103.78</td>\n",
       "      <td>103.65</td>\n",
       "      <td>3.73</td>\n",
       "      <td>3.12</td>\n",
       "      <td>113.63</td>\n",
       "    </tr>\n",
       "    <tr>\n",
       "      <th>4</th>\n",
       "      <td>True</td>\n",
       "      <td>172.05</td>\n",
       "      <td>103.70</td>\n",
       "      <td>103.75</td>\n",
       "      <td>5.04</td>\n",
       "      <td>2.27</td>\n",
       "      <td>113.55</td>\n",
       "    </tr>\n",
       "  </tbody>\n",
       "</table>\n",
       "</div>"
      ],
      "text/plain": [
       "   is_genuine  diagonal  height_left  height_right  margin_low  margin_up  \\\n",
       "0        True    171.81       104.86        104.95        4.52       2.89   \n",
       "1        True    171.67       103.74        103.70        4.01       2.87   \n",
       "2        True    171.83       103.76        103.76        4.40       2.88   \n",
       "3        True    171.80       103.78        103.65        3.73       3.12   \n",
       "4        True    172.05       103.70        103.75        5.04       2.27   \n",
       "\n",
       "   length  \n",
       "0  112.83  \n",
       "1  113.29  \n",
       "2  113.84  \n",
       "3  113.63  \n",
       "4  113.55  "
      ]
     },
     "execution_count": 26,
     "metadata": {},
     "output_type": "execute_result"
    }
   ],
   "source": [
    "df_notes_pca.head()"
   ]
  },
  {
   "cell_type": "code",
   "execution_count": null,
   "metadata": {
    "cell_id": "5ddcf14643d142f2876d3f63c115efe7",
    "deepnote_cell_height": 521.59375,
    "deepnote_cell_type": "code",
    "deepnote_to_be_reexecuted": false,
    "execution_millis": 8,
    "execution_start": 1664565539120,
    "source_hash": "13c089b0",
    "tags": []
   },
   "outputs": [
    {
     "data": {
      "application/vnd.deepnote.dataframe.v3+json": {
       "column_count": 7,
       "columns": [
        {
         "dtype": "float64",
         "name": "is_genuine",
         "stats": {
          "histogram": [
           {
            "bin_end": -0.6200996761379028,
            "bin_start": -0.8001107512643365,
            "count": 1
           },
           {
            "bin_end": -0.4400886010114692,
            "bin_start": -0.6200996761379028,
            "count": 3
           },
           {
            "bin_end": -0.2600775258850355,
            "bin_start": -0.4400886010114692,
            "count": 0
           },
           {
            "bin_end": -0.08006645075860186,
            "bin_start": -0.2600775258850355,
            "count": 0
           },
           {
            "bin_end": 0.0999446243678318,
            "bin_start": -0.08006645075860186,
            "count": 0
           },
           {
            "bin_end": 0.27995569949426546,
            "bin_start": 0.0999446243678318,
            "count": 1
           },
           {
            "bin_end": 0.4599667746206991,
            "bin_start": 0.27995569949426546,
            "count": 0
           },
           {
            "bin_end": 0.6399778497471328,
            "bin_start": 0.4599667746206991,
            "count": 0
           },
           {
            "bin_end": 0.8199889248735664,
            "bin_start": 0.6399778497471328,
            "count": 0
           },
           {
            "bin_end": 1,
            "bin_start": 0.8199889248735664,
            "count": 2
           }
          ],
          "max": "1.0",
          "min": "-0.8001107512643365",
          "nan_count": 0,
          "unique_count": 7
         }
        },
        {
         "dtype": "float64",
         "name": "diagonal",
         "stats": {
          "histogram": [
           {
            "bin_end": -0.06291835899012048,
            "bin_start": -0.18102039887791163,
            "count": 1
           },
           {
            "bin_end": 0.05518368089767067,
            "bin_start": -0.06291835899012048,
            "count": 1
           },
           {
            "bin_end": 0.1732857207854618,
            "bin_start": 0.05518368089767067,
            "count": 2
           },
           {
            "bin_end": 0.291387760673253,
            "bin_start": 0.1732857207854618,
            "count": 1
           },
           {
            "bin_end": 0.4094898005610441,
            "bin_start": 0.291387760673253,
            "count": 1
           },
           {
            "bin_end": 0.5275918404488352,
            "bin_start": 0.4094898005610441,
            "count": 0
           },
           {
            "bin_end": 0.6456938803366264,
            "bin_start": 0.5275918404488352,
            "count": 0
           },
           {
            "bin_end": 0.7637959202244176,
            "bin_start": 0.6456938803366264,
            "count": 0
           },
           {
            "bin_end": 0.8818979601122087,
            "bin_start": 0.7637959202244176,
            "count": 0
           },
           {
            "bin_end": 1,
            "bin_start": 0.8818979601122087,
            "count": 1
           }
          ],
          "max": "1.0",
          "min": "-0.18102039887791163",
          "nan_count": 0,
          "unique_count": 7
         }
        },
        {
         "dtype": "float64",
         "name": "height_left",
         "stats": {
          "histogram": [
           {
            "bin_end": -0.3155569904978199,
            "bin_start": -0.4617299894420221,
            "count": 2
           },
           {
            "bin_end": -0.16938399155361766,
            "bin_start": -0.3155569904978199,
            "count": 0
           },
           {
            "bin_end": -0.02321099260941545,
            "bin_start": -0.16938399155361766,
            "count": 0
           },
           {
            "bin_end": 0.12296200633478677,
            "bin_start": -0.02321099260941545,
            "count": 0
           },
           {
            "bin_end": 0.269135005278989,
            "bin_start": 0.12296200633478677,
            "count": 0
           },
           {
            "bin_end": 0.4153080042231912,
            "bin_start": 0.269135005278989,
            "count": 2
           },
           {
            "bin_end": 0.5614810031673934,
            "bin_start": 0.4153080042231912,
            "count": 1
           },
           {
            "bin_end": 0.7076540021115956,
            "bin_start": 0.5614810031673934,
            "count": 0
           },
           {
            "bin_end": 0.8538270010557978,
            "bin_start": 0.7076540021115956,
            "count": 1
           },
           {
            "bin_end": 1,
            "bin_start": 0.8538270010557978,
            "count": 1
           }
          ],
          "max": "1.0",
          "min": "-0.4617299894420221",
          "nan_count": 0,
          "unique_count": 7
         }
        },
        {
         "dtype": "float64",
         "name": "height_right",
         "stats": {
          "histogram": [
           {
            "bin_end": -0.39617804550720986,
            "bin_start": -0.5513089394524554,
            "count": 2
           },
           {
            "bin_end": -0.24104715156196432,
            "bin_start": -0.39617804550720986,
            "count": 0
           },
           {
            "bin_end": -0.08591625761671878,
            "bin_start": -0.24104715156196432,
            "count": 0
           },
           {
            "bin_end": 0.06921463632852676,
            "bin_start": -0.08591625761671878,
            "count": 0
           },
           {
            "bin_end": 0.22434553027377235,
            "bin_start": 0.06921463632852676,
            "count": 1
           },
           {
            "bin_end": 0.37947642421901784,
            "bin_start": 0.22434553027377235,
            "count": 1
           },
           {
            "bin_end": 0.5346073181642633,
            "bin_start": 0.37947642421901784,
            "count": 1
           },
           {
            "bin_end": 0.6897382121095089,
            "bin_start": 0.5346073181642633,
            "count": 0
           },
           {
            "bin_end": 0.8448691060547545,
            "bin_start": 0.6897382121095089,
            "count": 1
           },
           {
            "bin_end": 1,
            "bin_start": 0.8448691060547545,
            "count": 1
           }
          ],
          "max": "1.0",
          "min": "-0.5513089394524554",
          "nan_count": 0,
          "unique_count": 7
         }
        },
        {
         "dtype": "float64",
         "name": "margin_low",
         "stats": {
          "histogram": [
           {
            "bin_end": -0.6200996761379028,
            "bin_start": -0.8001107512643365,
            "count": 2
           },
           {
            "bin_end": -0.4400886010114692,
            "bin_start": -0.6200996761379028,
            "count": 0
           },
           {
            "bin_end": -0.2600775258850355,
            "bin_start": -0.4400886010114692,
            "count": 0
           },
           {
            "bin_end": -0.08006645075860186,
            "bin_start": -0.2600775258850355,
            "count": 1
           },
           {
            "bin_end": 0.0999446243678318,
            "bin_start": -0.08006645075860186,
            "count": 0
           },
           {
            "bin_end": 0.27995569949426546,
            "bin_start": 0.0999446243678318,
            "count": 1
           },
           {
            "bin_end": 0.4599667746206991,
            "bin_start": 0.27995569949426546,
            "count": 1
           },
           {
            "bin_end": 0.6399778497471328,
            "bin_start": 0.4599667746206991,
            "count": 1
           },
           {
            "bin_end": 0.8199889248735664,
            "bin_start": 0.6399778497471328,
            "count": 0
           },
           {
            "bin_end": 1,
            "bin_start": 0.8199889248735664,
            "count": 1
           }
          ],
          "max": "1.0",
          "min": "-0.8001107512643365",
          "nan_count": 0,
          "unique_count": 7
         }
        },
        {
         "dtype": "float64",
         "name": "margin_up",
         "stats": {
          "histogram": [
           {
            "bin_end": -0.4245206714502219,
            "bin_start": -0.5828007460558021,
            "count": 2
           },
           {
            "bin_end": -0.2662405968446417,
            "bin_start": -0.4245206714502219,
            "count": 0
           },
           {
            "bin_end": -0.1079605222390615,
            "bin_start": -0.2662405968446417,
            "count": 0
           },
           {
            "bin_end": 0.05031955236651875,
            "bin_start": -0.1079605222390615,
            "count": 1
           },
           {
            "bin_end": 0.208599626972099,
            "bin_start": 0.05031955236651875,
            "count": 1
           },
           {
            "bin_end": 0.36687970157767913,
            "bin_start": 0.208599626972099,
            "count": 1
           },
           {
            "bin_end": 0.5251597761832595,
            "bin_start": 0.36687970157767913,
            "count": 1
           },
           {
            "bin_end": 0.6834398507888396,
            "bin_start": 0.5251597761832595,
            "count": 0
           },
           {
            "bin_end": 0.8417199253944198,
            "bin_start": 0.6834398507888396,
            "count": 0
           },
           {
            "bin_end": 1,
            "bin_start": 0.8417199253944198,
            "count": 1
           }
          ],
          "max": "1.0",
          "min": "-0.5828007460558021",
          "nan_count": 0,
          "unique_count": 7
         }
        },
        {
         "dtype": "float64",
         "name": "length",
         "stats": {
          "histogram": [
           {
            "bin_end": -0.4736165196245009,
            "bin_start": -0.6373516884716677,
            "count": 2
           },
           {
            "bin_end": -0.30988135077733414,
            "bin_start": -0.4736165196245009,
            "count": 2
           },
           {
            "bin_end": -0.14614618193016737,
            "bin_start": -0.30988135077733414,
            "count": 0
           },
           {
            "bin_end": 0.017588986916999394,
            "bin_start": -0.14614618193016737,
            "count": 0
           },
           {
            "bin_end": 0.18132415576416616,
            "bin_start": 0.017588986916999394,
            "count": 1
           },
           {
            "bin_end": 0.34505932461133293,
            "bin_start": 0.18132415576416616,
            "count": 0
           },
           {
            "bin_end": 0.5087944934584996,
            "bin_start": 0.34505932461133293,
            "count": 0
           },
           {
            "bin_end": 0.6725296623056665,
            "bin_start": 0.5087944934584996,
            "count": 0
           },
           {
            "bin_end": 0.8362648311528333,
            "bin_start": 0.6725296623056665,
            "count": 1
           },
           {
            "bin_end": 1,
            "bin_start": 0.8362648311528333,
            "count": 1
           }
          ],
          "max": "1.0",
          "min": "-0.6373516884716677",
          "nan_count": 0,
          "unique_count": 7
         }
        },
        {
         "dtype": "object",
         "name": "_deepnote_index_column"
        }
       ],
       "row_count": 7,
       "rows": [
        {
         "_deepnote_index_column": "is_genuine",
         "diagonal": "0.13922323285679147",
         "height_left": "-0.4617299894420221",
         "height_right": "-0.5513089394524554",
         "is_genuine": "1.0",
         "length": "0.8257425540056594",
         "margin_low": "-0.8001107512643365",
         "margin_up": "-0.5828007460558021"
        },
        {
         "_deepnote_index_column": "diagonal",
         "diagonal": "1.0",
         "height_left": "0.3195837953309612",
         "height_right": "0.22041801321886823",
         "is_genuine": "0.13922323285679147",
         "length": "0.08029518555730691",
         "margin_low": "-0.18102039887791163",
         "margin_up": "-0.027365547059043364"
        },
        {
         "_deepnote_index_column": "height_left",
         "diagonal": "0.3195837953309612",
         "height_left": "1.0",
         "height_right": "0.7343902682297796",
         "is_genuine": "-0.4617299894420221",
         "length": "-0.42138734673051087",
         "margin_low": "0.42453003349627044",
         "margin_up": "0.3247876403535908"
        },
        {
         "_deepnote_index_column": "height_right",
         "diagonal": "0.22041801321886823",
         "height_left": "0.7343902682297796",
         "height_right": "1.0",
         "is_genuine": "-0.5513089394524554",
         "length": "-0.41702056009027005",
         "margin_low": "0.5093752409395763",
         "margin_up": "0.366917877059312"
        },
        {
         "_deepnote_index_column": "margin_low",
         "diagonal": "-0.18102039887791163",
         "height_left": "0.42453003349627044",
         "height_right": "0.5093752409395763",
         "is_genuine": "-0.8001107512643365",
         "length": "-0.6373516884716677",
         "margin_low": "1.0",
         "margin_up": "0.1711128305007324"
        },
        {
         "_deepnote_index_column": "margin_up",
         "diagonal": "-0.027365547059043364",
         "height_left": "0.3247876403535908",
         "height_right": "0.366917877059312",
         "is_genuine": "-0.5828007460558021",
         "length": "-0.5252838489032949",
         "margin_low": "0.1711128305007324",
         "margin_up": "1.0"
        },
        {
         "_deepnote_index_column": "length",
         "diagonal": "0.08029518555730691",
         "height_left": "-0.42138734673051087",
         "height_right": "-0.41702056009027005",
         "is_genuine": "0.8257425540056594",
         "length": "1.0",
         "margin_low": "-0.6373516884716677",
         "margin_up": "-0.5252838489032949"
        }
       ]
      },
      "text/html": [
       "<div>\n",
       "<style scoped>\n",
       "    .dataframe tbody tr th:only-of-type {\n",
       "        vertical-align: middle;\n",
       "    }\n",
       "\n",
       "    .dataframe tbody tr th {\n",
       "        vertical-align: top;\n",
       "    }\n",
       "\n",
       "    .dataframe thead th {\n",
       "        text-align: right;\n",
       "    }\n",
       "</style>\n",
       "<table border=\"1\" class=\"dataframe\">\n",
       "  <thead>\n",
       "    <tr style=\"text-align: right;\">\n",
       "      <th></th>\n",
       "      <th>is_genuine</th>\n",
       "      <th>diagonal</th>\n",
       "      <th>height_left</th>\n",
       "      <th>height_right</th>\n",
       "      <th>margin_low</th>\n",
       "      <th>margin_up</th>\n",
       "      <th>length</th>\n",
       "    </tr>\n",
       "  </thead>\n",
       "  <tbody>\n",
       "    <tr>\n",
       "      <th>is_genuine</th>\n",
       "      <td>1.000000</td>\n",
       "      <td>0.139223</td>\n",
       "      <td>-0.461730</td>\n",
       "      <td>-0.551309</td>\n",
       "      <td>-0.800111</td>\n",
       "      <td>-0.582801</td>\n",
       "      <td>0.825743</td>\n",
       "    </tr>\n",
       "    <tr>\n",
       "      <th>diagonal</th>\n",
       "      <td>0.139223</td>\n",
       "      <td>1.000000</td>\n",
       "      <td>0.319584</td>\n",
       "      <td>0.220418</td>\n",
       "      <td>-0.181020</td>\n",
       "      <td>-0.027366</td>\n",
       "      <td>0.080295</td>\n",
       "    </tr>\n",
       "    <tr>\n",
       "      <th>height_left</th>\n",
       "      <td>-0.461730</td>\n",
       "      <td>0.319584</td>\n",
       "      <td>1.000000</td>\n",
       "      <td>0.734390</td>\n",
       "      <td>0.424530</td>\n",
       "      <td>0.324788</td>\n",
       "      <td>-0.421387</td>\n",
       "    </tr>\n",
       "    <tr>\n",
       "      <th>height_right</th>\n",
       "      <td>-0.551309</td>\n",
       "      <td>0.220418</td>\n",
       "      <td>0.734390</td>\n",
       "      <td>1.000000</td>\n",
       "      <td>0.509375</td>\n",
       "      <td>0.366918</td>\n",
       "      <td>-0.417021</td>\n",
       "    </tr>\n",
       "    <tr>\n",
       "      <th>margin_low</th>\n",
       "      <td>-0.800111</td>\n",
       "      <td>-0.181020</td>\n",
       "      <td>0.424530</td>\n",
       "      <td>0.509375</td>\n",
       "      <td>1.000000</td>\n",
       "      <td>0.171113</td>\n",
       "      <td>-0.637352</td>\n",
       "    </tr>\n",
       "    <tr>\n",
       "      <th>margin_up</th>\n",
       "      <td>-0.582801</td>\n",
       "      <td>-0.027366</td>\n",
       "      <td>0.324788</td>\n",
       "      <td>0.366918</td>\n",
       "      <td>0.171113</td>\n",
       "      <td>1.000000</td>\n",
       "      <td>-0.525284</td>\n",
       "    </tr>\n",
       "    <tr>\n",
       "      <th>length</th>\n",
       "      <td>0.825743</td>\n",
       "      <td>0.080295</td>\n",
       "      <td>-0.421387</td>\n",
       "      <td>-0.417021</td>\n",
       "      <td>-0.637352</td>\n",
       "      <td>-0.525284</td>\n",
       "      <td>1.000000</td>\n",
       "    </tr>\n",
       "  </tbody>\n",
       "</table>\n",
       "</div>"
      ],
      "text/plain": [
       "              is_genuine  diagonal  height_left  height_right  margin_low  \\\n",
       "is_genuine      1.000000  0.139223    -0.461730     -0.551309   -0.800111   \n",
       "diagonal        0.139223  1.000000     0.319584      0.220418   -0.181020   \n",
       "height_left    -0.461730  0.319584     1.000000      0.734390    0.424530   \n",
       "height_right   -0.551309  0.220418     0.734390      1.000000    0.509375   \n",
       "margin_low     -0.800111 -0.181020     0.424530      0.509375    1.000000   \n",
       "margin_up      -0.582801 -0.027366     0.324788      0.366918    0.171113   \n",
       "length          0.825743  0.080295    -0.421387     -0.417021   -0.637352   \n",
       "\n",
       "              margin_up    length  \n",
       "is_genuine    -0.582801  0.825743  \n",
       "diagonal      -0.027366  0.080295  \n",
       "height_left    0.324788 -0.421387  \n",
       "height_right   0.366918 -0.417021  \n",
       "margin_low     0.171113 -0.637352  \n",
       "margin_up      1.000000 -0.525284  \n",
       "length        -0.525284  1.000000  "
      ]
     },
     "execution_count": 27,
     "metadata": {},
     "output_type": "execute_result"
    }
   ],
   "source": [
    "import seaborn as sns\n",
    "\n",
    "df_notes.corr()"
   ]
  },
  {
   "cell_type": "code",
   "execution_count": null,
   "metadata": {
    "cell_id": "eb4f8516cc544ab89b0282c71d3cbe77",
    "deepnote_cell_height": 184,
    "deepnote_cell_type": "code",
    "deepnote_to_be_reexecuted": false,
    "execution_millis": 3,
    "execution_start": 1664565539135,
    "source_hash": "d1672ff4",
    "tags": []
   },
   "outputs": [],
   "source": [
    "from sklearn.model_selection import train_test_split\n",
    "\n",
    "df_notes = df_notes[['margin_low', 'length', 'is_genuine']]\n",
    "X_train, X_test, y_train, y_test = train_test_split(df_notes.drop('is_genuine',axis=1), \n",
    "                                                    df_notes['is_genuine'], \n",
    "                                                    test_size=0.40, \n",
    "                                                    random_state=327)"
   ]
  },
  {
   "cell_type": "code",
   "execution_count": null,
   "metadata": {
    "cell_id": "b2ff524a36ac4bb1887843701c573cf2",
    "deepnote_cell_height": 390,
    "deepnote_cell_type": "code",
    "deepnote_to_be_reexecuted": false,
    "execution_millis": 13,
    "execution_start": 1664565539138,
    "source_hash": "7c234d23",
    "tags": []
   },
   "outputs": [
    {
     "data": {
      "application/vnd.deepnote.dataframe.v3+json": {
       "column_count": 2,
       "columns": [
        {
         "dtype": "float64",
         "name": "margin_low",
         "stats": {
          "histogram": [
           {
            "bin_end": 3.808,
            "bin_start": 3.6,
            "count": 1
           },
           {
            "bin_end": 4.016,
            "bin_start": 3.808,
            "count": 0
           },
           {
            "bin_end": 4.224,
            "bin_start": 4.016,
            "count": 1
           },
           {
            "bin_end": 4.432,
            "bin_start": 4.224,
            "count": 0
           },
           {
            "bin_end": 4.64,
            "bin_start": 4.432,
            "count": 1
           },
           {
            "bin_end": 4.848,
            "bin_start": 4.64,
            "count": 1
           },
           {
            "bin_end": 5.056,
            "bin_start": 4.848,
            "count": 0
           },
           {
            "bin_end": 5.263999999999999,
            "bin_start": 5.056,
            "count": 0
           },
           {
            "bin_end": 5.4719999999999995,
            "bin_start": 5.263999999999999,
            "count": 0
           },
           {
            "bin_end": 5.68,
            "bin_start": 5.4719999999999995,
            "count": 1
           }
          ],
          "max": "5.68",
          "min": "3.6",
          "nan_count": 0,
          "unique_count": 5
         }
        },
        {
         "dtype": "float64",
         "name": "length",
         "stats": {
          "histogram": [
           {
            "bin_end": 110.60300000000001,
            "bin_start": 110.31,
            "count": 1
           },
           {
            "bin_end": 110.896,
            "bin_start": 110.60300000000001,
            "count": 0
           },
           {
            "bin_end": 111.189,
            "bin_start": 110.896,
            "count": 0
           },
           {
            "bin_end": 111.482,
            "bin_start": 111.189,
            "count": 0
           },
           {
            "bin_end": 111.775,
            "bin_start": 111.482,
            "count": 1
           },
           {
            "bin_end": 112.068,
            "bin_start": 111.775,
            "count": 1
           },
           {
            "bin_end": 112.36099999999999,
            "bin_start": 112.068,
            "count": 0
           },
           {
            "bin_end": 112.654,
            "bin_start": 112.36099999999999,
            "count": 0
           },
           {
            "bin_end": 112.947,
            "bin_start": 112.654,
            "count": 1
           },
           {
            "bin_end": 113.24,
            "bin_start": 112.947,
            "count": 1
           }
          ],
          "max": "113.24",
          "min": "110.31",
          "nan_count": 0,
          "unique_count": 5
         }
        },
        {
         "dtype": "int64",
         "name": "_deepnote_index_column"
        }
       ],
       "row_count": 5,
       "rows": [
        {
         "_deepnote_index_column": "0",
         "length": "112.83",
         "margin_low": "4.52"
        },
        {
         "_deepnote_index_column": "18",
         "length": "113.24",
         "margin_low": "3.6"
        },
        {
         "_deepnote_index_column": "168",
         "length": "111.87",
         "margin_low": "4.73"
        },
        {
         "_deepnote_index_column": "162",
         "length": "111.55",
         "margin_low": "5.68"
        },
        {
         "_deepnote_index_column": "159",
         "length": "110.31",
         "margin_low": "4.21"
        }
       ]
      },
      "text/html": [
       "<div>\n",
       "<style scoped>\n",
       "    .dataframe tbody tr th:only-of-type {\n",
       "        vertical-align: middle;\n",
       "    }\n",
       "\n",
       "    .dataframe tbody tr th {\n",
       "        vertical-align: top;\n",
       "    }\n",
       "\n",
       "    .dataframe thead th {\n",
       "        text-align: right;\n",
       "    }\n",
       "</style>\n",
       "<table border=\"1\" class=\"dataframe\">\n",
       "  <thead>\n",
       "    <tr style=\"text-align: right;\">\n",
       "      <th></th>\n",
       "      <th>margin_low</th>\n",
       "      <th>length</th>\n",
       "    </tr>\n",
       "  </thead>\n",
       "  <tbody>\n",
       "    <tr>\n",
       "      <th>0</th>\n",
       "      <td>4.52</td>\n",
       "      <td>112.83</td>\n",
       "    </tr>\n",
       "    <tr>\n",
       "      <th>18</th>\n",
       "      <td>3.60</td>\n",
       "      <td>113.24</td>\n",
       "    </tr>\n",
       "    <tr>\n",
       "      <th>168</th>\n",
       "      <td>4.73</td>\n",
       "      <td>111.87</td>\n",
       "    </tr>\n",
       "    <tr>\n",
       "      <th>162</th>\n",
       "      <td>5.68</td>\n",
       "      <td>111.55</td>\n",
       "    </tr>\n",
       "    <tr>\n",
       "      <th>159</th>\n",
       "      <td>4.21</td>\n",
       "      <td>110.31</td>\n",
       "    </tr>\n",
       "  </tbody>\n",
       "</table>\n",
       "</div>"
      ],
      "text/plain": [
       "     margin_low  length\n",
       "0          4.52  112.83\n",
       "18         3.60  113.24\n",
       "168        4.73  111.87\n",
       "162        5.68  111.55\n",
       "159        4.21  110.31"
      ]
     },
     "execution_count": 29,
     "metadata": {},
     "output_type": "execute_result"
    }
   ],
   "source": [
    "X_train.head()"
   ]
  },
  {
   "cell_type": "code",
   "execution_count": null,
   "metadata": {
    "cell_id": "7b73563ae06b4cb0bb807370e393326b",
    "deepnote_cell_height": 631,
    "deepnote_cell_type": "code",
    "deepnote_to_be_reexecuted": false,
    "execution_millis": 234,
    "execution_start": 1664565539156,
    "source_hash": "a84b319e",
    "tags": []
   },
   "outputs": [
    {
     "name": "stdout",
     "output_type": "stream",
     "text": [
      "Optimization terminated successfully.\n",
      "         Current function value: 0.221309\n",
      "         Iterations 8\n",
      "                         Results: Logit\n",
      "=================================================================\n",
      "Model:              Logit            Pseudo R-squared: 0.648     \n",
      "Dependent Variable: is_genuine       AIC:              34.0980   \n",
      "Date:               2022-09-30 19:18 BIC:              38.5370   \n",
      "No. Observations:   68               Log-Likelihood:   -15.049   \n",
      "Df Model:           1                LL-Null:          -42.806   \n",
      "Df Residuals:       66               LLR p-value:      9.2786e-14\n",
      "Converged:          1.0000           Scale:            1.0000    \n",
      "No. Iterations:     8.0000                                       \n",
      "------------------------------------------------------------------\n",
      "               Coef.   Std.Err.     z     P>|z|    [0.025   0.975]\n",
      "------------------------------------------------------------------\n",
      "margin_low    -5.5440    1.3950  -3.9743  0.0001  -8.2780  -2.8099\n",
      "length         0.2348    0.0578   4.0601  0.0000   0.1214   0.3481\n",
      "=================================================================\n",
      "\n"
     ]
    }
   ],
   "source": [
    "import statsmodels.api as sm\n",
    "\n",
    "model = sm.Logit(y_test, X_test)\n",
    "\n",
    "r = model.fit()\n",
    "\n",
    "print(r.summary2())\n",
    "\n"
   ]
  },
  {
   "cell_type": "markdown",
   "metadata": {
    "cell_id": "2d2c5303d3f640f2ae5f795bcc7b7eac",
    "deepnote_cell_type": "text-cell-h3",
    "formattedRanges": [],
    "is_collapsed": false,
    "tags": []
   },
   "source": [
    "### Training and Predicting"
   ]
  },
  {
   "cell_type": "code",
   "execution_count": null,
   "metadata": {
    "cell_id": "9c650dea22564a3280cd29a3776cd614",
    "deepnote_cell_height": 171,
    "deepnote_cell_type": "code",
    "deepnote_to_be_reexecuted": false,
    "execution_millis": 13,
    "execution_start": 1664565539394,
    "source_hash": "a217d113",
    "tags": []
   },
   "outputs": [],
   "source": [
    "#Note: LogisticRegression is not for regression but classification. The Y variable must be the classification class,\n",
    "\n",
    "from sklearn.linear_model import LogisticRegression\n",
    "logmodel = LogisticRegression()\n",
    "logmodel.fit(X_train,y_train)\n",
    "predictions = logmodel.predict(X_test)"
   ]
  },
  {
   "cell_type": "code",
   "execution_count": null,
   "metadata": {
    "cell_id": "6b160e8d478047579562dd6a19903e36",
    "deepnote_cell_height": 257.59375,
    "deepnote_cell_type": "code",
    "deepnote_to_be_reexecuted": false,
    "execution_millis": 87,
    "execution_start": 1664565539412,
    "source_hash": "cf8ef882",
    "tags": []
   },
   "outputs": [
    {
     "data": {
      "application/vnd.deepnote.dataframe.v3+json": {
       "column_count": 7,
       "columns": [
        {
         "dtype": "int64",
         "name": "diagonale",
         "stats": {
          "histogram": [
           {
            "bin_end": 169.6,
            "bin_start": 169.5,
            "count": 0
           },
           {
            "bin_end": 169.7,
            "bin_start": 169.6,
            "count": 0
           },
           {
            "bin_end": 169.8,
            "bin_start": 169.7,
            "count": 0
           },
           {
            "bin_end": 169.9,
            "bin_start": 169.8,
            "count": 0
           },
           {
            "bin_end": 170,
            "bin_start": 169.9,
            "count": 0
           },
           {
            "bin_end": 170.1,
            "bin_start": 170,
            "count": 1
           },
           {
            "bin_end": 170.2,
            "bin_start": 170.1,
            "count": 0
           },
           {
            "bin_end": 170.3,
            "bin_start": 170.2,
            "count": 0
           },
           {
            "bin_end": 170.4,
            "bin_start": 170.3,
            "count": 0
           },
           {
            "bin_end": 170.5,
            "bin_start": 170.4,
            "count": 0
           }
          ],
          "max": "170",
          "min": "170",
          "nan_count": 0,
          "unique_count": 1
         }
        },
        {
         "dtype": "float64",
         "name": "height_left",
         "stats": {
          "histogram": [
           {
            "bin_end": 99.89999999999999,
            "bin_start": 99.8,
            "count": 0
           },
           {
            "bin_end": 100,
            "bin_start": 99.89999999999999,
            "count": 0
           },
           {
            "bin_end": 100.1,
            "bin_start": 100,
            "count": 0
           },
           {
            "bin_end": 100.2,
            "bin_start": 100.1,
            "count": 0
           },
           {
            "bin_end": 100.3,
            "bin_start": 100.2,
            "count": 0
           },
           {
            "bin_end": 100.39999999999999,
            "bin_start": 100.3,
            "count": 1
           },
           {
            "bin_end": 100.5,
            "bin_start": 100.39999999999999,
            "count": 0
           },
           {
            "bin_end": 100.6,
            "bin_start": 100.5,
            "count": 0
           },
           {
            "bin_end": 100.7,
            "bin_start": 100.6,
            "count": 0
           },
           {
            "bin_end": 100.8,
            "bin_start": 100.7,
            "count": 0
           }
          ],
          "max": "100.3",
          "min": "100.3",
          "nan_count": 0,
          "unique_count": 1
         }
        },
        {
         "dtype": "float64",
         "name": "height_right",
         "stats": {
          "histogram": [
           {
            "bin_end": 100.69999999999999,
            "bin_start": 100.6,
            "count": 0
           },
           {
            "bin_end": 100.8,
            "bin_start": 100.69999999999999,
            "count": 0
           },
           {
            "bin_end": 100.89999999999999,
            "bin_start": 100.8,
            "count": 0
           },
           {
            "bin_end": 101,
            "bin_start": 100.89999999999999,
            "count": 0
           },
           {
            "bin_end": 101.1,
            "bin_start": 101,
            "count": 0
           },
           {
            "bin_end": 101.19999999999999,
            "bin_start": 101.1,
            "count": 1
           },
           {
            "bin_end": 101.3,
            "bin_start": 101.19999999999999,
            "count": 0
           },
           {
            "bin_end": 101.39999999999999,
            "bin_start": 101.3,
            "count": 0
           },
           {
            "bin_end": 101.5,
            "bin_start": 101.39999999999999,
            "count": 0
           },
           {
            "bin_end": 101.6,
            "bin_start": 101.5,
            "count": 0
           }
          ],
          "max": "101.1",
          "min": "101.1",
          "nan_count": 0,
          "unique_count": 1
         }
        },
        {
         "dtype": "float64",
         "name": "margin_low",
         "stats": {
          "histogram": [
           {
            "bin_end": 3.6999999999999997,
            "bin_start": 3.5999999999999996,
            "count": 0
           },
           {
            "bin_end": 3.8,
            "bin_start": 3.6999999999999997,
            "count": 0
           },
           {
            "bin_end": 3.8999999999999995,
            "bin_start": 3.8,
            "count": 0
           },
           {
            "bin_end": 3.9999999999999996,
            "bin_start": 3.8999999999999995,
            "count": 0
           },
           {
            "bin_end": 4.1,
            "bin_start": 3.9999999999999996,
            "count": 0
           },
           {
            "bin_end": 4.199999999999999,
            "bin_start": 4.1,
            "count": 1
           },
           {
            "bin_end": 4.3,
            "bin_start": 4.199999999999999,
            "count": 0
           },
           {
            "bin_end": 4.3999999999999995,
            "bin_start": 4.3,
            "count": 0
           },
           {
            "bin_end": 4.5,
            "bin_start": 4.3999999999999995,
            "count": 0
           },
           {
            "bin_end": 4.6,
            "bin_start": 4.5,
            "count": 0
           }
          ],
          "max": "4.1",
          "min": "4.1",
          "nan_count": 0,
          "unique_count": 1
         }
        },
        {
         "dtype": "float64",
         "name": "margin_up",
         "stats": {
          "histogram": [
           {
            "bin_end": 1.7000000000000002,
            "bin_start": 1.6,
            "count": 0
           },
           {
            "bin_end": 1.8,
            "bin_start": 1.7000000000000002,
            "count": 0
           },
           {
            "bin_end": 1.9000000000000001,
            "bin_start": 1.8,
            "count": 0
           },
           {
            "bin_end": 2,
            "bin_start": 1.9000000000000001,
            "count": 0
           },
           {
            "bin_end": 2.1,
            "bin_start": 2,
            "count": 0
           },
           {
            "bin_end": 2.2,
            "bin_start": 2.1,
            "count": 1
           },
           {
            "bin_end": 2.3000000000000003,
            "bin_start": 2.2,
            "count": 0
           },
           {
            "bin_end": 2.4000000000000004,
            "bin_start": 2.3000000000000003,
            "count": 0
           },
           {
            "bin_end": 2.5,
            "bin_start": 2.4000000000000004,
            "count": 0
           },
           {
            "bin_end": 2.6,
            "bin_start": 2.5,
            "count": 0
           }
          ],
          "max": "2.1",
          "min": "2.1",
          "nan_count": 0,
          "unique_count": 1
         }
        },
        {
         "dtype": "float64",
         "name": "length",
         "stats": {
          "histogram": [
           {
            "bin_end": 109.8,
            "bin_start": 109.7,
            "count": 0
           },
           {
            "bin_end": 109.9,
            "bin_start": 109.8,
            "count": 0
           },
           {
            "bin_end": 110,
            "bin_start": 109.9,
            "count": 0
           },
           {
            "bin_end": 110.10000000000001,
            "bin_start": 110,
            "count": 0
           },
           {
            "bin_end": 110.2,
            "bin_start": 110.10000000000001,
            "count": 0
           },
           {
            "bin_end": 110.3,
            "bin_start": 110.2,
            "count": 1
           },
           {
            "bin_end": 110.4,
            "bin_start": 110.3,
            "count": 0
           },
           {
            "bin_end": 110.5,
            "bin_start": 110.4,
            "count": 0
           },
           {
            "bin_end": 110.60000000000001,
            "bin_start": 110.5,
            "count": 0
           },
           {
            "bin_end": 110.7,
            "bin_start": 110.60000000000001,
            "count": 0
           }
          ],
          "max": "110.2",
          "min": "110.2",
          "nan_count": 0,
          "unique_count": 1
         }
        },
        {
         "dtype": "object",
         "name": "id",
         "stats": {
          "categories": [
           {
            "count": 1,
            "name": "id1"
           }
          ],
          "nan_count": 0,
          "unique_count": 1
         }
        },
        {
         "dtype": "int64",
         "name": "_deepnote_index_column"
        }
       ],
       "row_count": 1,
       "rows": [
        {
         "_deepnote_index_column": "0",
         "diagonale": "170",
         "height_left": "100.3",
         "height_right": "101.1",
         "id": "id1",
         "length": "110.2",
         "margin_low": "4.1",
         "margin_up": "2.1"
        }
       ]
      },
      "text/html": [
       "<div>\n",
       "<style scoped>\n",
       "    .dataframe tbody tr th:only-of-type {\n",
       "        vertical-align: middle;\n",
       "    }\n",
       "\n",
       "    .dataframe tbody tr th {\n",
       "        vertical-align: top;\n",
       "    }\n",
       "\n",
       "    .dataframe thead th {\n",
       "        text-align: right;\n",
       "    }\n",
       "</style>\n",
       "<table border=\"1\" class=\"dataframe\">\n",
       "  <thead>\n",
       "    <tr style=\"text-align: right;\">\n",
       "      <th></th>\n",
       "      <th>diagonale</th>\n",
       "      <th>height_left</th>\n",
       "      <th>height_right</th>\n",
       "      <th>margin_low</th>\n",
       "      <th>margin_up</th>\n",
       "      <th>length</th>\n",
       "      <th>id</th>\n",
       "    </tr>\n",
       "  </thead>\n",
       "  <tbody>\n",
       "    <tr>\n",
       "      <th>0</th>\n",
       "      <td>170</td>\n",
       "      <td>100.3</td>\n",
       "      <td>101.1</td>\n",
       "      <td>4.1</td>\n",
       "      <td>2.1</td>\n",
       "      <td>110.2</td>\n",
       "      <td>id1</td>\n",
       "    </tr>\n",
       "  </tbody>\n",
       "</table>\n",
       "</div>"
      ],
      "text/plain": [
       "   diagonale  height_left  height_right  margin_low  margin_up  length   id\n",
       "0        170        100.3         101.1         4.1        2.1   110.2  id1"
      ]
     },
     "execution_count": 32,
     "metadata": {},
     "output_type": "execute_result"
    }
   ],
   "source": [
    "real_values = pd.read_csv('real_values.csv')\n",
    "real_values.head(1)"
   ]
  },
  {
   "cell_type": "code",
   "execution_count": null,
   "metadata": {
    "cell_id": "b5a760073dd04908909256b590373a6f",
    "deepnote_cell_height": 244,
    "deepnote_cell_type": "code",
    "deepnote_to_be_reexecuted": false,
    "execution_millis": 11,
    "execution_start": 1664565539506,
    "source_hash": "2d969d17",
    "tags": []
   },
   "outputs": [
    {
     "data": {
      "application/vnd.deepnote.dataframe.v3+json": {
       "column_count": 2,
       "columns": [
        {
         "dtype": "float64",
         "name": "margin_low",
         "stats": {
          "histogram": [
           {
            "bin_end": 3.6999999999999997,
            "bin_start": 3.5999999999999996,
            "count": 0
           },
           {
            "bin_end": 3.8,
            "bin_start": 3.6999999999999997,
            "count": 0
           },
           {
            "bin_end": 3.8999999999999995,
            "bin_start": 3.8,
            "count": 0
           },
           {
            "bin_end": 3.9999999999999996,
            "bin_start": 3.8999999999999995,
            "count": 0
           },
           {
            "bin_end": 4.1,
            "bin_start": 3.9999999999999996,
            "count": 0
           },
           {
            "bin_end": 4.199999999999999,
            "bin_start": 4.1,
            "count": 1
           },
           {
            "bin_end": 4.3,
            "bin_start": 4.199999999999999,
            "count": 0
           },
           {
            "bin_end": 4.3999999999999995,
            "bin_start": 4.3,
            "count": 0
           },
           {
            "bin_end": 4.5,
            "bin_start": 4.3999999999999995,
            "count": 0
           },
           {
            "bin_end": 4.6,
            "bin_start": 4.5,
            "count": 0
           }
          ],
          "max": "4.1",
          "min": "4.1",
          "nan_count": 0,
          "unique_count": 1
         }
        },
        {
         "dtype": "float64",
         "name": "length",
         "stats": {
          "histogram": [
           {
            "bin_end": 109.8,
            "bin_start": 109.7,
            "count": 0
           },
           {
            "bin_end": 109.9,
            "bin_start": 109.8,
            "count": 0
           },
           {
            "bin_end": 110,
            "bin_start": 109.9,
            "count": 0
           },
           {
            "bin_end": 110.10000000000001,
            "bin_start": 110,
            "count": 0
           },
           {
            "bin_end": 110.2,
            "bin_start": 110.10000000000001,
            "count": 0
           },
           {
            "bin_end": 110.3,
            "bin_start": 110.2,
            "count": 1
           },
           {
            "bin_end": 110.4,
            "bin_start": 110.3,
            "count": 0
           },
           {
            "bin_end": 110.5,
            "bin_start": 110.4,
            "count": 0
           },
           {
            "bin_end": 110.60000000000001,
            "bin_start": 110.5,
            "count": 0
           },
           {
            "bin_end": 110.7,
            "bin_start": 110.60000000000001,
            "count": 0
           }
          ],
          "max": "110.2",
          "min": "110.2",
          "nan_count": 0,
          "unique_count": 1
         }
        },
        {
         "dtype": "int64",
         "name": "_deepnote_index_column"
        }
       ],
       "row_count": 1,
       "rows": [
        {
         "_deepnote_index_column": "0",
         "length": "110.2",
         "margin_low": "4.1"
        }
       ]
      },
      "text/html": [
       "<div>\n",
       "<style scoped>\n",
       "    .dataframe tbody tr th:only-of-type {\n",
       "        vertical-align: middle;\n",
       "    }\n",
       "\n",
       "    .dataframe tbody tr th {\n",
       "        vertical-align: top;\n",
       "    }\n",
       "\n",
       "    .dataframe thead th {\n",
       "        text-align: right;\n",
       "    }\n",
       "</style>\n",
       "<table border=\"1\" class=\"dataframe\">\n",
       "  <thead>\n",
       "    <tr style=\"text-align: right;\">\n",
       "      <th></th>\n",
       "      <th>margin_low</th>\n",
       "      <th>length</th>\n",
       "    </tr>\n",
       "  </thead>\n",
       "  <tbody>\n",
       "    <tr>\n",
       "      <th>0</th>\n",
       "      <td>4.1</td>\n",
       "      <td>110.2</td>\n",
       "    </tr>\n",
       "  </tbody>\n",
       "</table>\n",
       "</div>"
      ],
      "text/plain": [
       "   margin_low  length\n",
       "0         4.1   110.2"
      ]
     },
     "execution_count": 33,
     "metadata": {},
     "output_type": "execute_result"
    }
   ],
   "source": [
    "real_values = real_values[['margin_low', 'length']]\n",
    "real_values.head(1)"
   ]
  },
  {
   "cell_type": "code",
   "execution_count": null,
   "metadata": {
    "cell_id": "636f7d1c62f347708958fdf8e4d8546a",
    "deepnote_cell_height": 595,
    "deepnote_cell_type": "code",
    "deepnote_to_be_reexecuted": false,
    "execution_millis": 20,
    "execution_start": 1664565539521,
    "source_hash": "d65cf08f",
    "tags": []
   },
   "outputs": [
    {
     "data": {
      "application/vnd.deepnote.dataframe.v3+json": {
       "column_count": 2,
       "columns": [
        {
         "dtype": "float64",
         "name": "margin_low",
         "stats": {
          "histogram": [
           {
            "bin_end": 3.895,
            "bin_start": 3.64,
            "count": 10
           },
           {
            "bin_end": 4.15,
            "bin_start": 3.895,
            "count": 14
           },
           {
            "bin_end": 4.405,
            "bin_start": 4.15,
            "count": 12
           },
           {
            "bin_end": 4.66,
            "bin_start": 4.405,
            "count": 10
           },
           {
            "bin_end": 4.915,
            "bin_start": 4.66,
            "count": 5
           },
           {
            "bin_end": 5.17,
            "bin_start": 4.915,
            "count": 5
           },
           {
            "bin_end": 5.425000000000001,
            "bin_start": 5.17,
            "count": 3
           },
           {
            "bin_end": 5.68,
            "bin_start": 5.425000000000001,
            "count": 4
           },
           {
            "bin_end": 5.9350000000000005,
            "bin_start": 5.68,
            "count": 2
           },
           {
            "bin_end": 6.19,
            "bin_start": 5.9350000000000005,
            "count": 3
           }
          ],
          "max": "6.19",
          "min": "3.64",
          "nan_count": 0,
          "unique_count": 56
         }
        },
        {
         "dtype": "float64",
         "name": "length",
         "stats": {
          "histogram": [
           {
            "bin_end": 110.371,
            "bin_start": 109.97,
            "count": 1
           },
           {
            "bin_end": 110.772,
            "bin_start": 110.371,
            "count": 3
           },
           {
            "bin_end": 111.173,
            "bin_start": 110.772,
            "count": 2
           },
           {
            "bin_end": 111.574,
            "bin_start": 111.173,
            "count": 2
           },
           {
            "bin_end": 111.975,
            "bin_start": 111.574,
            "count": 7
           },
           {
            "bin_end": 112.376,
            "bin_start": 111.975,
            "count": 4
           },
           {
            "bin_end": 112.777,
            "bin_start": 112.376,
            "count": 8
           },
           {
            "bin_end": 113.178,
            "bin_start": 112.777,
            "count": 15
           },
           {
            "bin_end": 113.57900000000001,
            "bin_start": 113.178,
            "count": 18
           },
           {
            "bin_end": 113.98,
            "bin_start": 113.57900000000001,
            "count": 8
           }
          ],
          "max": "113.98",
          "min": "109.97",
          "nan_count": 0,
          "unique_count": 62
         }
        },
        {
         "dtype": "int64",
         "name": "_deepnote_index_column"
        }
       ],
       "row_count": 68,
       "rows": [
        {
         "_deepnote_index_column": "129",
         "length": "111.93",
         "margin_low": "4.94"
        },
        {
         "_deepnote_index_column": "134",
         "length": "112.8",
         "margin_low": "5.54"
        },
        {
         "_deepnote_index_column": "90",
         "length": "113.24",
         "margin_low": "4.21"
        },
        {
         "_deepnote_index_column": "61",
         "length": "113.14",
         "margin_low": "3.69"
        },
        {
         "_deepnote_index_column": "71",
         "length": "113.1",
         "margin_low": "4.06"
        },
        {
         "_deepnote_index_column": "66",
         "length": "112.89",
         "margin_low": "3.82"
        },
        {
         "_deepnote_index_column": "101",
         "length": "110.98",
         "margin_low": "5.59"
        },
        {
         "_deepnote_index_column": "57",
         "length": "112.79",
         "margin_low": "4.39"
        },
        {
         "_deepnote_index_column": "4",
         "length": "113.55",
         "margin_low": "5.04"
        },
        {
         "_deepnote_index_column": "32",
         "length": "112.61",
         "margin_low": "3.9"
        }
       ]
      },
      "text/html": [
       "<div>\n",
       "<style scoped>\n",
       "    .dataframe tbody tr th:only-of-type {\n",
       "        vertical-align: middle;\n",
       "    }\n",
       "\n",
       "    .dataframe tbody tr th {\n",
       "        vertical-align: top;\n",
       "    }\n",
       "\n",
       "    .dataframe thead th {\n",
       "        text-align: right;\n",
       "    }\n",
       "</style>\n",
       "<table border=\"1\" class=\"dataframe\">\n",
       "  <thead>\n",
       "    <tr style=\"text-align: right;\">\n",
       "      <th></th>\n",
       "      <th>margin_low</th>\n",
       "      <th>length</th>\n",
       "    </tr>\n",
       "  </thead>\n",
       "  <tbody>\n",
       "    <tr>\n",
       "      <th>129</th>\n",
       "      <td>4.94</td>\n",
       "      <td>111.93</td>\n",
       "    </tr>\n",
       "    <tr>\n",
       "      <th>134</th>\n",
       "      <td>5.54</td>\n",
       "      <td>112.80</td>\n",
       "    </tr>\n",
       "    <tr>\n",
       "      <th>90</th>\n",
       "      <td>4.21</td>\n",
       "      <td>113.24</td>\n",
       "    </tr>\n",
       "    <tr>\n",
       "      <th>61</th>\n",
       "      <td>3.69</td>\n",
       "      <td>113.14</td>\n",
       "    </tr>\n",
       "    <tr>\n",
       "      <th>71</th>\n",
       "      <td>4.06</td>\n",
       "      <td>113.10</td>\n",
       "    </tr>\n",
       "    <tr>\n",
       "      <th>...</th>\n",
       "      <td>...</td>\n",
       "      <td>...</td>\n",
       "    </tr>\n",
       "    <tr>\n",
       "      <th>36</th>\n",
       "      <td>4.08</td>\n",
       "      <td>113.44</td>\n",
       "    </tr>\n",
       "    <tr>\n",
       "      <th>144</th>\n",
       "      <td>5.66</td>\n",
       "      <td>112.95</td>\n",
       "    </tr>\n",
       "    <tr>\n",
       "      <th>97</th>\n",
       "      <td>4.01</td>\n",
       "      <td>112.95</td>\n",
       "    </tr>\n",
       "    <tr>\n",
       "      <th>79</th>\n",
       "      <td>3.89</td>\n",
       "      <td>113.60</td>\n",
       "    </tr>\n",
       "    <tr>\n",
       "      <th>49</th>\n",
       "      <td>4.01</td>\n",
       "      <td>113.59</td>\n",
       "    </tr>\n",
       "  </tbody>\n",
       "</table>\n",
       "<p>68 rows × 2 columns</p>\n",
       "</div>"
      ],
      "text/plain": [
       "     margin_low  length\n",
       "129        4.94  111.93\n",
       "134        5.54  112.80\n",
       "90         4.21  113.24\n",
       "61         3.69  113.14\n",
       "71         4.06  113.10\n",
       "..          ...     ...\n",
       "36         4.08  113.44\n",
       "144        5.66  112.95\n",
       "97         4.01  112.95\n",
       "79         3.89  113.60\n",
       "49         4.01  113.59\n",
       "\n",
       "[68 rows x 2 columns]"
      ]
     },
     "execution_count": 34,
     "metadata": {},
     "output_type": "execute_result"
    }
   ],
   "source": [
    "X_test"
   ]
  },
  {
   "cell_type": "code",
   "execution_count": null,
   "metadata": {
    "cell_id": "036a2a4b28a54a72844a1e5388a8bfc5",
    "deepnote_cell_height": 76,
    "deepnote_cell_type": "code",
    "deepnote_to_be_reexecuted": false,
    "execution_millis": 0,
    "execution_start": 1664565539538,
    "source_hash": "7af70622",
    "tags": []
   },
   "outputs": [],
   "source": [
    "predictions2 = logmodel.predict(real_values)"
   ]
  },
  {
   "cell_type": "code",
   "execution_count": null,
   "metadata": {
    "cell_id": "132c83eba24b4e3988aebada8da2604a",
    "deepnote_cell_height": 112.1875,
    "deepnote_cell_type": "code",
    "deepnote_output_heights": [
     20.1875
    ],
    "deepnote_to_be_reexecuted": false,
    "execution_millis": 8,
    "execution_start": 1664565539543,
    "source_hash": "23e3b7ea",
    "tags": []
   },
   "outputs": [
    {
     "data": {
      "text/plain": [
       "array([False, False, False, False, False, False, False, False, False])"
      ]
     },
     "execution_count": 36,
     "metadata": {},
     "output_type": "execute_result"
    }
   ],
   "source": [
    "predictions2"
   ]
  },
  {
   "cell_type": "code",
   "execution_count": null,
   "metadata": {
    "cell_id": "7fed623dd1ff448a8ba1121e2f4cec32",
    "deepnote_cell_height": 246.578125,
    "deepnote_cell_type": "code",
    "deepnote_output_heights": [
     154.59375
    ],
    "deepnote_to_be_reexecuted": false,
    "execution_millis": 31,
    "execution_start": 1664565539549,
    "source_hash": "463ff82d",
    "tags": []
   },
   "outputs": [
    {
     "data": {
      "text/plain": [
       "array([False, False,  True,  True,  True,  True, False,  True,  True,\n",
       "        True, False,  True,  True, False, False,  True,  True, False,\n",
       "        True,  True,  True,  True,  True, False,  True, False, False,\n",
       "        True,  True, False, False,  True,  True,  True,  True, False,\n",
       "        True, False,  True,  True,  True,  True,  True, False,  True,\n",
       "        True,  True, False,  True, False, False, False,  True,  True,\n",
       "        True,  True,  True,  True,  True,  True,  True,  True,  True,\n",
       "        True, False,  True,  True,  True])"
      ]
     },
     "execution_count": 37,
     "metadata": {},
     "output_type": "execute_result"
    }
   ],
   "source": [
    "predictions"
   ]
  },
  {
   "cell_type": "markdown",
   "metadata": {
    "cell_id": "35b58b7a4a1745c98cde17d3d4cc8823",
    "deepnote_cell_type": "text-cell-h3",
    "formattedRanges": [],
    "is_collapsed": false,
    "tags": []
   },
   "source": [
    "### Evaluation\n"
   ]
  },
  {
   "cell_type": "code",
   "execution_count": null,
   "metadata": {
    "cell_id": "eb07b26a3986488fa3593c238420ae1b",
    "deepnote_cell_height": 257.375,
    "deepnote_cell_type": "code",
    "deepnote_output_heights": [
     39.390625
    ],
    "deepnote_to_be_reexecuted": false,
    "execution_millis": 3,
    "execution_start": 1664565539601,
    "source_hash": "f7458896",
    "tags": []
   },
   "outputs": [
    {
     "data": {
      "text/plain": [
       "array([[20,  2],\n",
       "       [ 0, 46]])"
      ]
     },
     "execution_count": 38,
     "metadata": {},
     "output_type": "execute_result"
    }
   ],
   "source": [
    "#check precision, recall,f1-score using classification report\n",
    "\n",
    "from sklearn.metrics import classification_report\n",
    "from sklearn.metrics import confusion_matrix\n",
    "\n",
    "#print(classification_report(y_test,predictions))\n",
    "confusion_matrix = confusion_matrix(y_test, predictions)\n",
    "confusion_matrix"
   ]
  },
  {
   "cell_type": "code",
   "execution_count": null,
   "metadata": {
    "cell_id": "08e277c00915404c8245e54d255beb22",
    "deepnote_cell_height": 267,
    "deepnote_cell_type": "code",
    "deepnote_to_be_reexecuted": false,
    "execution_millis": 2,
    "execution_start": 1664565539602,
    "source_hash": "de5f5aa9",
    "tags": []
   },
   "outputs": [
    {
     "name": "stdout",
     "output_type": "stream",
     "text": [
      "              precision    recall  f1-score   support\n",
      "\n",
      "       False       1.00      0.91      0.95        22\n",
      "        True       0.96      1.00      0.98        46\n",
      "\n",
      "    accuracy                           0.97        68\n",
      "   macro avg       0.98      0.95      0.97        68\n",
      "weighted avg       0.97      0.97      0.97        68\n",
      "\n"
     ]
    }
   ],
   "source": [
    "print(classification_report(y_test,predictions))"
   ]
  },
  {
   "cell_type": "markdown",
   "metadata": {
    "created_in_deepnote_cell": true,
    "deepnote_cell_type": "markdown",
    "tags": []
   },
   "source": [
    "<a style='text-decoration:none;line-height:16px;display:flex;color:#5B5B62;padding:10px;justify-content:end;' href='https://deepnote.com?utm_source=created-in-deepnote-cell&projectId=1ee07386-aa80-48b6-a794-cb2a65040702' target=\"_blank\">\n",
    "<img alt='Created in deepnote.com' style='display:inline;max-height:16px;margin:0px;margin-right:7.5px;' src='data:image/svg+xml;base64,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' > </img>\n",
    "Created in <span style='font-weight:600;margin-left:4px;'>Deepnote</span></a>"
   ]
  }
 ],
 "metadata": {
  "deepnote": {},
  "deepnote_execution_queue": [],
  "deepnote_notebook_id": "f0ba6dff-cdde-445c-aace-0e38b2ff0d82",
  "kernelspec": {
   "display_name": "Python 3 (ipykernel)",
   "language": "python",
   "name": "python3"
  },
  "language_info": {
   "codemirror_mode": {
    "name": "ipython",
    "version": 3
   },
   "file_extension": ".py",
   "mimetype": "text/x-python",
   "name": "python",
   "nbconvert_exporter": "python",
   "pygments_lexer": "ipython3",
   "version": "3.9.7"
  },
  "toc": {
   "base_numbering": 1,
   "nav_menu": {},
   "number_sections": true,
   "sideBar": true,
   "skip_h1_title": false,
   "title_cell": "Table of Contents",
   "title_sidebar": "Contents",
   "toc_cell": false,
   "toc_position": {},
   "toc_section_display": true,
   "toc_window_display": false
  }
 },
 "nbformat": 4,
 "nbformat_minor": 2
}
